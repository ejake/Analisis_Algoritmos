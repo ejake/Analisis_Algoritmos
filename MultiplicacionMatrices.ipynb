{
 "cells": [
  {
   "cell_type": "markdown",
   "metadata": {},
   "source": [
    "<h1><b>MULTIPLICACÍON DE MATRICES</b></h1>"
   ]
  },
  {
   "cell_type": "code",
   "execution_count": 1,
   "metadata": {
    "collapsed": false
   },
   "outputs": [],
   "source": [
    "import math\n",
    "import numpy as np\n",
    "import pylab as pl\n",
    "%matplotlib inline"
   ]
  },
  {
   "cell_type": "markdown",
   "metadata": {},
   "source": [
    "<h2> Algoritmo de multiplicacion: c_{ij} = \\sum_{k=1}^n a_{ik}*b_{kj}</h2>"
   ]
  },
  {
   "cell_type": "code",
   "execution_count": 2,
   "metadata": {
    "collapsed": false
   },
   "outputs": [],
   "source": [
    "def multiplicacionMatriz(matriz1, matriz2, tama):\n",
    "    matriz3=np.zeros((tama, tama))\n",
    "   \n",
    "    for i in range(tama):\n",
    "        for j in range(tama):\n",
    "            for k in range(tama):\n",
    "                matriz3[i][j]= matriz3[i][j]+ (matriz1[i][k]*matriz2[k][j]);\n",
    "                \n",
    "    return matriz3;\n",
    "    \n"
   ]
  },
  {
   "cell_type": "code",
   "execution_count": 5,
   "metadata": {
    "collapsed": false
   },
   "outputs": [
    {
     "name": "stdout",
     "output_type": "stream",
     "text": [
      "Ingrese el tamaño de la matriz\n",
      "4\n",
      "Matriz1:  \n",
      "[[26  1 23 21]\n",
      " [12 17  1  1]\n",
      " [22 15 12 12]\n",
      " [ 8 25  5 15]]\n",
      "Matriz2:  \n",
      "[[15 15 20  4]\n",
      " [ 0 25 15  0]\n",
      " [24 10 11  6]\n",
      " [ 8 18 24 15]]\n",
      "Matriz Resultante:\n",
      "[[ 1110.  1023.  1292.   557.]\n",
      " [  212.   633.   530.    69.]\n",
      " [  714.  1041.  1085.   340.]\n",
      " [  360.  1065.   950.   287.]]\n"
     ]
    }
   ],
   "source": [
    "print (\"Ingrese el tamaño de la matriz\");\n",
    "tama= int(input());\n",
    "matriz1=np.random.randint(0, 30, (tama, tama))\n",
    "matriz2=np.random.randint(0, 30, (tama, tama))\n",
    "\n",
    "print \"Matriz1:  \\n\",matriz1 \n",
    "print \"Matriz2:  \\n\",matriz2\n",
    "\n",
    "print\"Matriz Resultante:\\n\",multiplicacionMatriz(matriz1,matriz2,tama);"
   ]
  },
  {
   "cell_type": "markdown",
   "metadata": {},
   "source": [
    "<h2>Conteo de pasos del algoritmo</h2>"
   ]
  },
  {
   "cell_type": "code",
   "execution_count": 8,
   "metadata": {
    "collapsed": false
   },
   "outputs": [],
   "source": [
    "class Counter:\n",
    "   \n",
    "    def __init__(self):\n",
    "        self.steps = 0\n",
    "\n",
    "    def reset(self):\n",
    "        self.steps = 0\n",
    "\n",
    "    def count(self):\n",
    "        self.steps += 1\n",
    "\n",
    "    def print_steps(self):\n",
    "        print \"Number of steps =\", self.steps\n",
    "        \n",
    "def multiplicacionMatriz_counter(matriz1, matriz2, tama,acct):\n",
    "    matriz3=np.zeros((tama, tama))\n",
    "    acct.count()   \n",
    "    for i in range(tama):\n",
    "        acct.count()\n",
    "        for j in range(tama):\n",
    "            acct.count()\n",
    "            for k in range(tama):\n",
    "                acct.count()\n",
    "                matriz3[i][j]= matriz3[i][j]+ (matriz1[i][k]*matriz2[k][j]);\n",
    "                acct.count()\n",
    "                acct.count()\n",
    "                \n",
    "    return matriz3\n",
    "                \n",
    "   "
   ]
  },
  {
   "cell_type": "code",
   "execution_count": 9,
   "metadata": {
    "collapsed": false
   },
   "outputs": [
    {
     "name": "stdout",
     "output_type": "stream",
     "text": [
      "Ingrese el tamaño de la matriz\n",
      "4\n",
      "Number of steps = 213\n"
     ]
    }
   ],
   "source": [
    "print (\"Ingrese el tamaño de la matriz\");\n",
    "tama= int(input());\n",
    "matriz1=np.random.randint(0, 30, (tama, tama))\n",
    "matriz2=np.random.randint(0, 30, (tama, tama))\n",
    "acct = Counter()\n",
    "multiplicacionMatriz_counter(matriz1, matriz2, tama,acct)\n",
    "acct.print_steps()"
   ]
  },
  {
   "cell_type": "code",
   "execution_count": 10,
   "metadata": {
    "collapsed": true
   },
   "outputs": [],
   "source": [
    "import random as rnd\n",
    "\n",
    "\n",
    "def exper_analysis(n):\n",
    "    results = []\n",
    "    acct = Counter()\n",
    "    i=1\n",
    "    for i in range(2,n):\n",
    "        acct.reset()\n",
    "        matriz1=np.random.randint(0, 30, (i, i))\n",
    "        matriz2=np.random.randint(0, 30, (i, i))\n",
    "        multiplicacionMatriz_counter(matriz1, matriz2, i,acct)\n",
    "        results.append(acct.steps)\n",
    "    return results"
   ]
  },
  {
   "cell_type": "code",
   "execution_count": 11,
   "metadata": {
    "collapsed": false
   },
   "outputs": [
    {
     "name": "stdout",
     "output_type": "stream",
     "text": [
      "[31, 94, 213, 406, 691, 1086, 1609, 2278, 3111, 4126, 5341, 6774, 8443, 10366, 12561, 15046, 17839, 20958]\n"
     ]
    }
   ],
   "source": [
    "print (exper_analysis(20))"
   ]
  },
  {
   "cell_type": "code",
   "execution_count": 12,
   "metadata": {
    "collapsed": false
   },
   "outputs": [
    {
     "data": {
      "text/plain": [
       "[<matplotlib.lines.Line2D at 0x76cc518>]"
      ]
     },
     "execution_count": 12,
     "metadata": {},
     "output_type": "execute_result"
    },
    {
     "data": {
      "image/png": "[encoded data removed]",
      "text/plain": [
       "<matplotlib.figure.Figure at 0x7751080>"
      ]
     },
     "metadata": {},
     "output_type": "display_data"
    }
   ],
   "source": [
    "pl.clf()\n",
    "x = np.arange(18)\n",
    "y = np.array(exper_analysis(20))\n",
    "pl.plot(x, y, 'k.')"
   ]
  },
  {
   "cell_type": "markdown",
   "metadata": {},
   "source": [
    "<h1><b>DIVIDIR Y CONQUISTAR</b></h1>\n"
   ]
  },
  {
   "cell_type": "code",
   "execution_count": 42,
   "metadata": {
    "collapsed": false
   },
   "outputs": [],
   "source": [
    "def suma(A, B):\n",
    "    n = len(A)\n",
    "    C = np.zeros((n,n))\n",
    "    for i in range(0, n):\n",
    "        for j in range(0, n):\n",
    "            C[i][j] = A[i][j] + B[i][j]\n",
    "    return C\n",
    "\n",
    "def dividir(matriz1, matriz2):\n",
    "    \n",
    "    if(len(matriz1)==2):\n",
    "        return multiplicacionMatriz(matriz1, matriz2, 2)\n",
    "    else:\n",
    "        tama= len(matriz1)\n",
    "        if(tama%2!=0):\n",
    "            c=np.zeros((tama,1))\n",
    "            f=np.zeros((1,(tama+1)))\n",
    "            mat1=np.c_[matriz1,c]\n",
    "            mat1=np.r_[mat1,f]\n",
    "            mat2=np.c_[matriz2,c]\n",
    "            mat2=np.r_[mat2,f]\n",
    "            tama= len(mat1)\n",
    "            ceros=1\n",
    "        else:\n",
    "            tama= len(matriz1)\n",
    "            mat1=matriz1\n",
    "            mat2=matriz2\n",
    "            ceros=0\n",
    "        \n",
    "        matriz3=np.zeros((tama,tama))\n",
    "        div=tama/2\n",
    "        a11=mat1[:div,:div]\n",
    "        a12=mat1[:div,div:tama]\n",
    "        a13=mat1[div:tama,:div]\n",
    "        a14=mat1[div:tama,div:tama]\n",
    "        b11=mat2[:div,:div]\n",
    "        b12=mat2[:div,div:tama]\n",
    "        b13=mat2[div:tama,:div]\n",
    "        b14=mat2[div:tama,div:tama]\n",
    "        \n",
    "        c11a=dividir(a11, b11)\n",
    "        c11b=dividir(a12,b13)\n",
    "        \n",
    "        c11=suma(c11a,c11b)\n",
    "        \n",
    "        c12a=dividir(a11, b12)\n",
    "        c12b=dividir(a12,b14)\n",
    "        c12=suma(c12a,c12b)\n",
    "        \n",
    "        c13a=dividir(a13, b11)\n",
    "        c13b=dividir(a14,b13)\n",
    "        c13=suma(c13a,c13b)\n",
    "        \n",
    "        c14a=dividir(a13, b12)\n",
    "        c14b=dividir(a14, b14)\n",
    "        c14=suma(c14a,c14b)\n",
    "    \n",
    "        c11=np.c_[c11,c12]\n",
    "        c13=np.c_[c13,c14]\n",
    "        c11=np.r_[c11,c13]\n",
    "       \n",
    "        if ceros==1:\n",
    "            tm=len(c11)\n",
    "            c11=c11[:tm-1,:tm-1]\n",
    "            \n",
    "        return c11"
   ]
  },
  {
   "cell_type": "code",
   "execution_count": 44,
   "metadata": {
    "collapsed": false
   },
   "outputs": [
    {
     "name": "stdout",
     "output_type": "stream",
     "text": [
      "Ingrese el tamaño de la matriz\n",
      "5\n",
      "Matriz1:  \n",
      "[[14 12 25  3  6]\n",
      " [ 7 16 23 21 20]\n",
      " [21 17 15 29  9]\n",
      " [12  2  6 13  1]\n",
      " [ 3 13 27 22 29]]\n",
      "Matriz2:  \n",
      "[[ 9  0  5  5 24]\n",
      " [23 12  9 13 21]\n",
      " [ 0 24  1 26 22]\n",
      " [13  0  2 20  9]\n",
      " [17 12  5  6 29]]\n",
      "Matriz Resultante:\n",
      "[[  543.   816.   239.   972.  1339.]\n",
      " [ 1044.   984.   344.  1381.  1779.]\n",
      " [ 1110.   672.   376.  1350.  1713.]\n",
      " [  340.   180.   115.   508.   608.]\n",
      " [ 1105.  1152.   348.  1500.  1978.]]\n"
     ]
    }
   ],
   "source": [
    "print (\"Ingrese el tamaño de la matriz\");\n",
    "tama= int(input());\n",
    "matriz1=np.random.randint(0, 30, (tama, tama))\n",
    "matriz2=np.random.randint(0, 30, (tama, tama))\n",
    "print \"Matriz1:  \\n\",matriz1\n",
    "print \"Matriz2:  \\n\",matriz2\n",
    "print\"Matriz Resultante:\\n\",dividir(matriz1, matriz2)\n"
   ]
  },
  {
   "cell_type": "markdown",
   "metadata": {},
   "source": [
    "<h1>Conteo de pasos</h1>"
   ]
  },
  {
   "cell_type": "code",
   "execution_count": 45,
   "metadata": {
    "collapsed": false
   },
   "outputs": [],
   "source": [
    "def suma_cont(A, B,acct):\n",
    "    acct.count()\n",
    "    n = len(A)\n",
    "    acct.count()\n",
    "    C = np.zeros((n,n))\n",
    "    acct.count()\n",
    "    for i in range(0, n):\n",
    "        acct.count()\n",
    "        for j in range(0, n):\n",
    "            acct.count()\n",
    "            C[i][j] = A[i][j] + B[i][j]\n",
    "            acct.count()\n",
    "    return C\n",
    "\n",
    "def dividir_cont(matriz1, matriz2,acct):\n",
    "    global c11\n",
    "    acct.count()\n",
    "    if(len(matriz1)==2):\n",
    "        acct.count()\n",
    "        return multiplicacionMatriz_counter(matriz1, matriz2, 2,acct)\n",
    "    else:\n",
    "        tama= len(matriz1)\n",
    "        acct.count()\n",
    "        if(tama%2!=0):\n",
    "            c=np.zeros((tama,1))\n",
    "            acct.count()\n",
    "            f=np.zeros((1,(tama+1)))\n",
    "            acct.count()\n",
    "            mat1=np.c_[matriz1,c]\n",
    "            acct.count()\n",
    "            mat1=np.r_[mat1,f]\n",
    "            acct.count()\n",
    "            mat2=np.c_[matriz2,c]\n",
    "            acct.count()\n",
    "            mat2=np.r_[mat2,f]\n",
    "            acct.count()\n",
    "            tama= len(mat1)\n",
    "            acct.count()\n",
    "        else:\n",
    "            acct.count()\n",
    "            tama= len(matriz1)\n",
    "            acct.count()\n",
    "            mat1=matriz1\n",
    "            acct.count()\n",
    "            mat2=matriz2\n",
    "        \n",
    "        matriz3=np.zeros((tama,tama))\n",
    "        div=tama/2\n",
    "        acct.count()\n",
    "        a11=mat1[:div,:div]\n",
    "        acct.count()\n",
    "        a12=mat1[:div,div:tama]\n",
    "        acct.count()\n",
    "        a13=mat1[div:tama,:div]\n",
    "        acct.count()\n",
    "        a14=mat1[div:tama,div:tama]\n",
    "        acct.count()\n",
    "        b11=mat2[:div,:div]\n",
    "        acct.count()\n",
    "        b12=mat2[:div,div:tama]\n",
    "        acct.count()\n",
    "        b13=mat2[div:tama,:div]\n",
    "        acct.count()\n",
    "        b14=mat2[div:tama,div:tama]\n",
    "        acct.count()\n",
    "        c11a=dividir_cont(a11, b11,acct)\n",
    "        acct.count()\n",
    "\n",
    "        c11b=dividir_cont(a12,b13,acct)\n",
    "        acct.count()\n",
    "        c11=suma_cont(c11a,c11b,acct)\n",
    "        acct.count()\n",
    "        \n",
    "        c12a=dividir_cont(a11, b12,acct)\n",
    "        acct.count()\n",
    "        c12b=dividir_cont(a12,b14,acct)\n",
    "        acct.count()\n",
    "        c12=suma_cont(c12a,c12b,acct)\n",
    "        acct.count()\n",
    "        \n",
    "        c13a=dividir_cont(a13, b11,acct)\n",
    "        acct.count()\n",
    "        c13b=dividir_cont(a14,b13,acct)\n",
    "        acct.count()\n",
    "        c13=suma_cont(c13a,c13b,acct)\n",
    "        acct.count()\n",
    "        \n",
    "        c14a=dividir_cont(a13, b12,acct)\n",
    "        acct.count()\n",
    "        c14b=dividir_cont(a14, b14,acct)\n",
    "        acct.count()\n",
    "        c14=suma_cont(c14a,c14b,acct)\n",
    "        acct.count()\n",
    "        \n",
    "        c11=np.c_[c11,c12]\n",
    "        acct.count()\n",
    "        c13=np.c_[c13,c14]\n",
    "        acct.count()\n",
    "        c11=np.r_[c11,c13]\n",
    "        acct.count()\n",
    "        return c11"
   ]
  },
  {
   "cell_type": "code",
   "execution_count": 46,
   "metadata": {
    "collapsed": false
   },
   "outputs": [
    {
     "name": "stdout",
     "output_type": "stream",
     "text": [
      "Ingrese el tamaño de la matriz\n",
      "5\n",
      "Number of steps = 2981\n"
     ]
    }
   ],
   "source": [
    "print (\"Ingrese el tamaño de la matriz\");\n",
    "tama= int(input());\n",
    "matriz1=np.random.randint(0, 30, (tama, tama))\n",
    "matriz2=np.random.randint(0, 30, (tama, tama))\n",
    "acct = Counter()\n",
    "dividir_cont(matriz1, matriz2, acct)\n",
    "acct.print_steps()"
   ]
  },
  {
   "cell_type": "code",
   "execution_count": 47,
   "metadata": {
    "collapsed": true
   },
   "outputs": [],
   "source": [
    "def exper_analysis_divide(n):\n",
    "    results = []\n",
    "    acct = Counter()\n",
    "    i=1\n",
    "    for i in range(2,n):\n",
    "        acct.reset()\n",
    "        matriz1=np.random.randint(0, 30, (i, i))\n",
    "        matriz2=np.random.randint(0, 30, (i, i))\n",
    "        dividir_cont(matriz1, matriz2,acct)\n",
    "        results.append(acct.steps)\n",
    "    return results"
   ]
  },
  {
   "cell_type": "code",
   "execution_count": 48,
   "metadata": {
    "collapsed": false
   },
   "outputs": [
    {
     "name": "stdout",
     "output_type": "stream",
     "text": [
      "[33, 349, 345, 2981, 2977, 2949, 2945, 24437, 24433, 24405, 24401, 24181, 24177, 24149, 24145, 197653, 197649, 197621]\n"
     ]
    }
   ],
   "source": [
    "print (exper_analysis_divide(20))"
   ]
  },
  {
   "cell_type": "code",
   "execution_count": 49,
   "metadata": {
    "collapsed": false
   },
   "outputs": [
    {
     "data": {
      "text/plain": [
       "[<matplotlib.lines.Line2D at 0x8200080>]"
      ]
     },
     "execution_count": 49,
     "metadata": {},
     "output_type": "execute_result"
    },
    {
     "data": {
      "image/png": "[encoded data removed]",
      "text/plain": [
       "<matplotlib.figure.Figure at 0x77585c0>"
      ]
     },
     "metadata": {},
     "output_type": "display_data"
    }
   ],
   "source": [
    "pl.clf()\n",
    "x = np.arange(18)\n",
    "y = np.array(exper_analysis_divide(20))\n",
    "pl.plot(x, y, 'k.')"
   ]
  },
  {
   "cell_type": "markdown",
   "metadata": {
    "collapsed": true
   },
   "source": [
    "<h1>Algoritmo de Strassen</h1>\n"
   ]
  },
  {
   "cell_type": "code",
   "execution_count": 52,
   "metadata": {
    "collapsed": true
   },
   "outputs": [],
   "source": [
    "def suma(A, B):\n",
    "    n = len(A)\n",
    "    C = np.zeros((n,n))\n",
    "    for i in range(0, n):\n",
    "        for j in range(0, n):\n",
    "            C[i][j] = A[i][j] + B[i][j]\n",
    "    return C\n",
    "\n",
    "def resta(A, B):\n",
    "    n = len(A)\n",
    "    C = np.zeros((n,n))\n",
    "    for i in range(0, n):\n",
    "        for j in range(0, n):\n",
    "            C[i][j] = A[i][j] - B[i][j]\n",
    "    return C\n",
    "\n",
    "\n",
    "def strassen(matriz1, matriz2):\n",
    "    if(len(matriz1)==2):\n",
    "        return multiplicacionMatriz(matriz1, matriz2, 2)\n",
    "    else:\n",
    "        tama= len(matriz1)\n",
    "        if(tama%2!=0):\n",
    "            c=np.zeros((tama,1))\n",
    "            f=np.zeros((1,(tama+1)))\n",
    "            mat1=np.c_[matriz1,c]\n",
    "            mat1=np.r_[mat1,f]\n",
    "            mat2=np.c_[matriz2,c]\n",
    "            mat2=np.r_[mat2,f]\n",
    "            tama= len(mat1)\n",
    "            ceros=1\n",
    "        else:\n",
    "            tama= len(matriz1)\n",
    "            mat1=matriz1\n",
    "            mat2=matriz2\n",
    "            ceros=0\n",
    "        \n",
    "        div=tama/2\n",
    "        a11=mat1[:div,:div]\n",
    "        a12=mat1[:div,div:tama]\n",
    "        a21=mat1[div:tama,:div]\n",
    "        a22=mat1[div:tama,div:tama]\n",
    "        b11=mat2[:div,:div]\n",
    "        b12=mat2[:div,div:tama]\n",
    "        b21=mat2[div:tama,:div]\n",
    "        b22=mat2[div:tama,div:tama]\n",
    "        bResult=np.zeros((div,div))\n",
    "        aResult=np.zeros((div,div))\n",
    "        \n",
    "\n",
    "        aResult=suma(a11,a22)\n",
    "\n",
    "        bResult=suma(b11,b22)\n",
    "        \n",
    "        m1=strassen(aResult,bResult)\n",
    "    \n",
    "        aResult = suma(a21, a22)      \n",
    "        m2 = strassen(aResult, b11)\n",
    "        \n",
    "        bResult = resta(b12, b22) \n",
    "        m3 = strassen(a11, bResult)  \n",
    "        \n",
    "        bResult = resta(b21, b11)\n",
    "        m4 =strassen(a22, bResult)   \n",
    "        \n",
    "        aResult = suma(a11, a12)      \n",
    "        m5 = strassen(aResult, b22)    \n",
    "\n",
    "        aResult = resta(a21, a11) \n",
    "        bResult = suma(b11, b12)      \n",
    "        m6 = strassen(aResult, bResult) \n",
    "\n",
    "        aResult = resta(a12, a22) \n",
    "        bResult = suma(b21, b22)      \n",
    "        m7 = strassen(aResult, bResult) \n",
    "        \n",
    "        c12 = suma(m3, m5) \n",
    "        c21 = suma(m2, m4)  \n",
    "\n",
    "        aResult = suma(m1, m4) \n",
    "        bResult = suma(aResult, m7) \n",
    "        c11 = resta(bResult, m5) \n",
    "\n",
    "        aResult = suma(m1, m3) \n",
    "        bResult = suma(aResult, m6) \n",
    "        c22 = resta(bResult, m2) \n",
    "        \n",
    "        c11=np.c_[c11,c12]\n",
    "        c21=np.c_[c21,c22]\n",
    "        c11=np.r_[c11,c21]\n",
    "        \n",
    "        if ceros==1:\n",
    "            tm=len(c11)\n",
    "            c11=c11[:tm-1,:tm-1]\n",
    "\n",
    "        return c11"
   ]
  },
  {
   "cell_type": "code",
   "execution_count": 53,
   "metadata": {
    "collapsed": false
   },
   "outputs": [
    {
     "name": "stdout",
     "output_type": "stream",
     "text": [
      "Ingrese el tamaño de la matriz\n",
      "5\n",
      "Matriz1:  \n",
      "[[21  4 26  8 28]\n",
      " [ 4 27 26 26  0]\n",
      " [20 15 21 18 27]\n",
      " [24 15  8 28 13]\n",
      " [29 10 18 17  2]]\n",
      "Matriz2:  \n",
      "[[ 1  6  7 29  8]\n",
      " [ 9 11  8  2  9]\n",
      " [12  6  6  9  1]\n",
      " [ 1  8 29 28  6]\n",
      " [26 18  7  2 11]]\n",
      "Matriz Resultante:\n",
      "[[ 1105.   894.   763.  1131.   586.]\n",
      " [  585.   685.  1154.  1132.   457.]\n",
      " [ 1127.  1041.  1097.  1357.   721.]\n",
      " [  621.   815.  1239.  1608.   646.]\n",
      " [  404.   564.   898.  1503.   464.]]\n"
     ]
    }
   ],
   "source": [
    "print (\"Ingrese el tamaño de la matriz\");\n",
    "tama= int(input());\n",
    "matriz1=np.random.randint(0, 30, (tama, tama))\n",
    "matriz2=np.random.randint(0, 30, (tama, tama))\n",
    "print \"Matriz1:  \\n\",matriz1 \n",
    "print \"Matriz2:  \\n\",matriz2\n",
    "print\"Matriz Resultante:\\n\",strassen(matriz1, matriz2)"
   ]
  },
  {
   "cell_type": "markdown",
   "metadata": {},
   "source": [
    "<h1>Conteo de pasos</h1>"
   ]
  },
  {
   "cell_type": "code",
   "execution_count": 54,
   "metadata": {
    "collapsed": true
   },
   "outputs": [],
   "source": [
    "def suma_cont(A, B,acct):\n",
    "    acct.count()\n",
    "    n = len(A)\n",
    "    acct.count()\n",
    "    C = np.zeros((n,n))\n",
    "    acct.count()\n",
    "    for i in range(0, n):\n",
    "        acct.count()\n",
    "        for j in range(0, n):\n",
    "            acct.count()\n",
    "            C[i][j] = A[i][j] + B[i][j]\n",
    "            acct.count()\n",
    "    return C\n",
    "\n",
    "def resta_cont(A, B,acct):\n",
    "    acct.count()\n",
    "    n = len(A)\n",
    "    acct.count()\n",
    "    C = np.zeros((n,n))\n",
    "    acct.count()\n",
    "    for i in range(0, n):\n",
    "        acct.count()\n",
    "        for j in range(0, n):\n",
    "            acct.count()\n",
    "            C[i][j] = A[i][j] - B[i][j]\n",
    "            acct.count()\n",
    "    return C\n",
    "\n",
    "\n",
    "def strassen_cont(matriz1, matriz2,acct):\n",
    "    acct.count()\n",
    "    if(len(matriz1)==2):\n",
    "        acct.count()\n",
    "        return multiplicacionMatriz(matriz1, matriz2, 2)\n",
    "    else:\n",
    "        acct.count()\n",
    "        tama= len(matriz1)\n",
    "        acct.count()\n",
    "        if(tama%2!=0):\n",
    "            acct.count()\n",
    "            c=np.zeros((tama,1))\n",
    "            acct.count()\n",
    "            f=np.zeros((1,(tama+1)))\n",
    "            acct.count()\n",
    "            mat1=np.c_[matriz1,c]\n",
    "            acct.count()\n",
    "            mat1=np.r_[mat1,f]\n",
    "            acct.count()\n",
    "            mat2=np.c_[matriz2,c]\n",
    "            acct.count()\n",
    "            mat2=np.r_[mat2,f]\n",
    "            acct.count()\n",
    "            tama= len(mat1)\n",
    "            acct.count()\n",
    "        else:\n",
    "            acct.count()\n",
    "            tama= len(matriz1)\n",
    "            acct.count()\n",
    "            mat1=matriz1\n",
    "            acct.count()\n",
    "            mat2=matriz2\n",
    "            acct.count()\n",
    "            \n",
    "        \n",
    "        div=tama/2\n",
    "        acct.count()\n",
    "        a11=mat1[:div,:div]\n",
    "        acct.count()\n",
    "        a12=mat1[:div,div:tama]\n",
    "        acct.count()\n",
    "        a21=mat1[div:tama,:div]\n",
    "        acct.count()\n",
    "        a22=mat1[div:tama,div:tama]\n",
    "        acct.count()\n",
    "        b11=mat2[:div,:div]\n",
    "        acct.count()\n",
    "        b12=mat2[:div,div:tama]\n",
    "        acct.count()        \n",
    "        b21=mat2[div:tama,:div]\n",
    "        acct.count()\n",
    "        b22=mat2[div:tama,div:tama]\n",
    "        acct.count()\n",
    "        bResult=np.zeros((div,div))\n",
    "        acct.count()\n",
    "        aResult=np.zeros((div,div))\n",
    "        acct.count()\n",
    "\n",
    "        aResult=suma_cont(a11,a22,acct)\n",
    "        acct.count()\n",
    "        bResult=suma_cont(b11,b22,acct)\n",
    "        acct.count()\n",
    "        m1=strassen_cont(aResult,bResult,acct)\n",
    "        acct.count()\n",
    "        aResult = suma_cont(a21, a22,acct)      \n",
    "        acct.count()\n",
    "        m2 = strassen_cont(aResult, b11,acct)\n",
    "        acct.count()\n",
    "        bResult = resta_cont(b12, b22,acct) \n",
    "        acct.count()\n",
    "        m3 = strassen_cont(a11, bResult,acct)  \n",
    "        acct.count()\n",
    "        bResult = resta_cont(b21, b11,acct)\n",
    "        acct.count()\n",
    "        m4 =strassen_cont(a22, bResult,acct)   \n",
    "        acct.count()\n",
    "        aResult = suma_cont(a11, a12,acct)      \n",
    "        acct.count()\n",
    "        m5 = strassen_cont(aResult, b22,acct)    \n",
    "        acct.count()\n",
    "        \n",
    "        aResult = resta_cont(a21, a11,acct) \n",
    "        acct.count()\n",
    "        bResult = suma_cont(b11, b12,acct)      \n",
    "        acct.count()\n",
    "        m6 = strassen_cont(aResult, bResult,acct) \n",
    "        acct.count()\n",
    "        \n",
    "        aResult = resta_cont(a12, a22,acct) \n",
    "        acct.count()\n",
    "        bResult = suma_cont(b21, b22,acct)      \n",
    "        acct.count()\n",
    "        m7 = strassen_cont(aResult, bResult,acct) \n",
    "        acct.count()\n",
    "        c12 = suma_cont(m3, m5,acct) \n",
    "        acct.count()\n",
    "        c21 = suma_cont(m2, m4,acct)  \n",
    "        acct.count()\n",
    "        \n",
    "        aResult = suma_cont(m1, m4,acct) \n",
    "        acct.count()\n",
    "        bResult = suma_cont(aResult, m7,acct) \n",
    "        acct.count()\n",
    "        c11 = resta_cont(bResult, m5,acct) \n",
    "        acct.count()\n",
    "        \n",
    "        \n",
    "        aResult = suma_cont(m1, m3,acct) \n",
    "        acct.count()\n",
    "        bResult = suma_cont(aResult, m6,acct) \n",
    "        acct.count()\n",
    "        c22 = resta_cont(bResult, m2,acct) \n",
    "        acct.count()\n",
    "        \n",
    "        c11=np.c_[c11,c12]\n",
    "        acct.count()\n",
    "        c21=np.c_[c21,c22]\n",
    "        acct.count()\n",
    "        c11=np.r_[c11,c21]\n",
    "        acct.count()\n",
    "        return c11"
   ]
  },
  {
   "cell_type": "code",
   "execution_count": 55,
   "metadata": {
    "collapsed": false
   },
   "outputs": [
    {
     "name": "stdout",
     "output_type": "stream",
     "text": [
      "Ingrese el tamaño de la matriz\n",
      "5\n",
      "Number of steps = 2688\n"
     ]
    }
   ],
   "source": [
    "print (\"Ingrese el tamaño de la matriz\");\n",
    "tama= int(input());\n",
    "matriz1=np.random.randint(0, 30, (tama, tama))\n",
    "matriz2=np.random.randint(0, 30, (tama, tama))\n",
    "acct = Counter()\n",
    "strassen_cont(matriz1, matriz2, acct)\n",
    "acct.print_steps()"
   ]
  },
  {
   "cell_type": "code",
   "execution_count": 56,
   "metadata": {
    "collapsed": true
   },
   "outputs": [],
   "source": [
    "def exper_analysis_strassen(n):\n",
    "    results = []\n",
    "    acct = Counter()\n",
    "    i=1\n",
    "    for i in range(2,n):\n",
    "        acct.reset()\n",
    "        matriz1=np.random.randint(0, 30, (i, i))\n",
    "        matriz2=np.random.randint(0, 30, (i, i))\n",
    "        strassen_cont(matriz1, matriz2,acct)\n",
    "        results.append(acct.steps)\n",
    "    return results"
   ]
  },
  {
   "cell_type": "code",
   "execution_count": 57,
   "metadata": {
    "collapsed": false
   },
   "outputs": [
    {
     "name": "stdout",
     "output_type": "stream",
     "text": [
      "[2, 298, 294, 2688, 2684, 2810, 2806, 20558, 20554, 20760, 20756, 21912, 21908, 22194, 22190, 149944, 149940, 150306]\n"
     ]
    }
   ],
   "source": [
    "print (exper_analysis_strassen(20))"
   ]
  },
  {
   "cell_type": "code",
   "execution_count": 58,
   "metadata": {
    "collapsed": false
   },
   "outputs": [
    {
     "data": {
      "text/plain": [
       "[<matplotlib.lines.Line2D at 0x8aa9a20>]"
      ]
     },
     "execution_count": 58,
     "metadata": {},
     "output_type": "execute_result"
    },
    {
     "data": {
      "image/png": "[encoded data removed]",
      "text/plain": [
       "<matplotlib.figure.Figure at 0x8234198>"
      ]
     },
     "metadata": {},
     "output_type": "display_data"
    }
   ],
   "source": [
    "pl.clf()\n",
    "x = np.arange(18)\n",
    "y = np.array(exper_analysis_strassen(20))\n",
    "pl.plot(x, y, 'k.')"
   ]
  },
  {
   "cell_type": "markdown",
   "metadata": {},
   "source": [
    "<h1>Gráficas Conjuntas</h1>"
   ]
  },
  {
   "cell_type": "code",
   "execution_count": 60,
   "metadata": {
    "collapsed": false
   },
   "outputs": [
    {
     "data": {
      "text/plain": [
       "[<matplotlib.lines.Line2D at 0x8e6c748>]"
      ]
     },
     "execution_count": 60,
     "metadata": {},
     "output_type": "execute_result"
    },
    {
     "data": {
      "image/png": "[encoded data removed]",
      "text/plain": [
       "<matplotlib.figure.Figure at 0x8f910f0>"
      ]
     },
     "metadata": {},
     "output_type": "display_data"
    }
   ],
   "source": [
    "pl.clf()\n",
    "x = np.arange(28)\n",
    "y = np.array(exper_analysis_strassen(30))\n",
    "pl.plot(x, y, 'k.',color=\"blue\")       #Estrassen Color Azul\n",
    "x = np.arange(28)\n",
    "y = np.array(exper_analysis_divide(30))\n",
    "pl.plot(x, y, 'k.',color=\"red\")       #Dividir y Conquistar Color Rojo\n",
    "x = np.arange(28)\n",
    "y = np.array(exper_analysis(30))\n",
    "pl.plot(x, y, 'k.')                    #Multiplicacion Normal Color Negro\n"
   ]
  },
  {
   "cell_type": "code",
   "execution_count": null,
   "metadata": {
    "collapsed": true
   },
   "outputs": [],
   "source": []
  }
 ],
 "metadata": {
  "anaconda-cloud": {},
  "kernelspec": {
   "display_name": "Python [conda root]",
   "language": "python",
   "name": "conda-root-py"
  },
  "language_info": {
   "codemirror_mode": {
    "name": "ipython",
    "version": 2
   },
   "file_extension": ".py",
   "mimetype": "text/x-python",
   "name": "python",
   "nbconvert_exporter": "python",
   "pygments_lexer": "ipython2",
   "version": "2.7.12"
  }
 },
 "nbformat": 4,
 "nbformat_minor": 1
}
