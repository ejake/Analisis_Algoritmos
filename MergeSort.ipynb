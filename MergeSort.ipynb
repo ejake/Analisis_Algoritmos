{
 "cells": [
  {
   "cell_type": "markdown",
   "metadata": {},
   "source": [
    "<h1> Merge Sort</h1>"
   ]
  },
  {
   "cell_type": "code",
   "execution_count": 2,
   "metadata": {
    "collapsed": false
   },
   "outputs": [],
   "source": [
    "import math\n",
    "import numpy as np\n",
    "import pylab as pl\n",
    "%matplotlib inline"
   ]
  },
  {
   "cell_type": "code",
   "execution_count": 3,
   "metadata": {
    "collapsed": true
   },
   "outputs": [],
   "source": [
    "def mergeSort(lista):\n",
    "    if len(lista)>1:\n",
    "        medio = len(lista)//2\n",
    "        izquierda = lista[:medio]\n",
    "        derecha = lista[medio:]\n",
    "\n",
    "        mergeSort(izquierda)\n",
    "        mergeSort(derecha)\n",
    "\n",
    "        i=0\n",
    "        j=0\n",
    "        k=0\n",
    "        while i < len(izquierda) and j < len(derecha):\n",
    "            if izquierda[i] < derecha[j]:\n",
    "                lista[k]=izquierda[i]\n",
    "                i=i+1\n",
    "            else:\n",
    "                lista[k]=derecha[j]\n",
    "                j=j+1\n",
    "            k=k+1\n",
    "\n",
    "        while i < len(izquierda):\n",
    "            lista[k]=izquierda[i]\n",
    "            i=i+1\n",
    "            k=k+1\n",
    "\n",
    "        while j < len(derecha):\n",
    "            lista[k]=derecha[j]\n",
    "            j=j+1\n",
    "            k=k+1\n"
   ]
  },
  {
   "cell_type": "code",
   "execution_count": 4,
   "metadata": {
    "collapsed": false
   },
   "outputs": [
    {
     "name": "stdout",
     "output_type": "stream",
     "text": [
      "[2 4 6 3 8 7 1 9 0 5]\n",
      "[0 0 0 0 0 0 0 0 0 5]\n"
     ]
    }
   ],
   "source": [
    "B = np.random.permutation(range(0,10))\n",
    "print B\n",
    "mergeSort(B)\n",
    "print B"
   ]
  },
  {
   "cell_type": "markdown",
   "metadata": {},
   "source": [
    "<h2>Correctitud</h2>\n",
    "<b>invariante:</b>"
   ]
  },
  {
   "cell_type": "code",
   "execution_count": 5,
   "metadata": {
    "collapsed": true
   },
   "outputs": [],
   "source": [
    "def invariant(A, original_A):\n",
    "    l1 = list(A)\n",
    "    l2 = list(original_A)\n",
    "    l2.sort()\n",
    "    print \"Comparando \", A,\" con \", original_A\n",
    "    return l1 == l2"
   ]
  },
  {
   "cell_type": "code",
   "execution_count": 6,
   "metadata": {
    "collapsed": false
   },
   "outputs": [
    {
     "name": "stdout",
     "output_type": "stream",
     "text": [
      "Comparando  [1, 2, 3, 4]  con  [4, 3, 2, 1]\n",
      "True\n",
      "Comparando  [1, 2, 3, 4]  con  [5, 3, 2, 1]\n",
      "False\n"
     ]
    }
   ],
   "source": [
    "print invariant([1, 2, 3, 4], [4, 3, 2, 1])\n",
    "print invariant([1, 2, 3, 4], [5, 3, 2, 1])"
   ]
  },
  {
   "cell_type": "code",
   "execution_count": 7,
   "metadata": {
    "collapsed": false
   },
   "outputs": [],
   "source": [
    "def mergeSort_Invariant(lista):\n",
    "    original_A = list(lista)\n",
    "    if len(lista)>1:\n",
    "        medio = len(lista)//2\n",
    "        izquierda = lista[:medio]\n",
    "        derecha = lista[medio:]\n",
    "\n",
    "        mergeSort_Invariant(izquierda)\n",
    "        mergeSort_Invariant(derecha)\n",
    "\n",
    "        i=0\n",
    "        j=0\n",
    "        k=0\n",
    "        while i < len(izquierda) and j < len(derecha):\n",
    "            if izquierda[i] < derecha[j]:\n",
    "                lista[k]=izquierda[i]\n",
    "                i=i+1\n",
    "            else:\n",
    "                lista[k]=derecha[j]\n",
    "                j=j+1\n",
    "            k=k+1\n",
    "\n",
    "        while i < len(izquierda):\n",
    "            lista[k]=izquierda[i]\n",
    "            i=i+1\n",
    "            k=k+1\n",
    "\n",
    "        while j < len(derecha):\n",
    "            lista[k]=derecha[j]\n",
    "            j=j+1\n",
    "            k=k+1\n",
    "        print invariant(lista, original_A)"
   ]
  },
  {
   "cell_type": "code",
   "execution_count": 8,
   "metadata": {
    "collapsed": false
   },
   "outputs": [
    {
     "name": "stdout",
     "output_type": "stream",
     "text": [
      "[9, 1, 8, 2, 7, 3, 6, 5, 4, 0]\n",
      "Comparando  [1, 9]  con  [9, 1]\n",
      "True\n",
      "Comparando  [2, 7]  con  [2, 7]\n",
      "True\n",
      "Comparando  [2, 7, 8]  con  [8, 2, 7]\n",
      "True\n",
      "Comparando  [1, 2, 7, 8, 9]  con  [9, 1, 8, 2, 7]\n",
      "True\n",
      "Comparando  [3, 6]  con  [3, 6]\n",
      "True\n",
      "Comparando  [0, 4]  con  [4, 0]\n",
      "True\n",
      "Comparando  [0, 4, 5]  con  [5, 4, 0]\n",
      "True\n",
      "Comparando  [0, 3, 4, 5, 6]  con  [3, 6, 5, 4, 0]\n",
      "True\n",
      "Comparando  [0, 1, 2, 3, 4, 5, 6, 7, 8, 9]  con  [9, 1, 8, 2, 7, 3, 6, 5, 4, 0]\n",
      "True\n",
      "[0, 1, 2, 3, 4, 5, 6, 7, 8, 9]\n"
     ]
    }
   ],
   "source": [
    "B = [9,1,8,2,7,3,6,5,4,0]\n",
    "print B\n",
    "mergeSort_Invariant(B)\n",
    "print B"
   ]
  },
  {
   "cell_type": "markdown",
   "metadata": {},
   "source": [
    "<h2> Análisis del tiempo de ejecución</h2>"
   ]
  },
  {
   "cell_type": "code",
   "execution_count": 42,
   "metadata": {
    "collapsed": false
   },
   "outputs": [],
   "source": [
    "class Counter:\n",
    "   \n",
    "    def __init__(self):\n",
    "        self.steps = 0\n",
    "\n",
    "    def reset(self):\n",
    "        self.steps = 0\n",
    "\n",
    "    def count(self):\n",
    "        self.steps += 1\n",
    "\n",
    "    def print_steps(self):\n",
    "        print \"Number of steps =\", self.steps\n",
    "\n",
    "\n",
    "def mergeSort_Cont(lista, cont):\n",
    "    cont.count()\n",
    "    if len(lista)>1:\n",
    "        cont.count()\n",
    "        medio = len(lista)//2\n",
    "        cont.count()\n",
    "        izquierda = lista[:medio]\n",
    "        cont.count()\n",
    "        derecha = lista[medio:]\n",
    "        cont.count()\n",
    "        mergeSort_Cont(izquierda,cont)\n",
    "        cont.count()\n",
    "        mergeSort_Cont(derecha,cont)\n",
    "        cont.count()\n",
    "        \n",
    "        i=0\n",
    "        j=0\n",
    "        k=0\n",
    "        while i < len(izquierda) and j < len(derecha):\n",
    "            cont.count()\n",
    "            if izquierda[i] < derecha[j]:\n",
    "                cont.count()\n",
    "                lista[k]=izquierda[i]\n",
    "                cont.count()\n",
    "                i=i+1\n",
    "                cont.count()\n",
    "            else:\n",
    "                cont.count()\n",
    "                lista[k]=derecha[j]\n",
    "                cont.count()\n",
    "                j=j+1\n",
    "                cont.count()\n",
    "            k=k+1\n",
    "            cont.count()\n",
    "        while i < len(izquierda):\n",
    "            cont.count()\n",
    "            lista[k]=izquierda[i]\n",
    "            cont.count()\n",
    "            i=i+1\n",
    "            cont.count()\n",
    "            k=k+1\n",
    "            cont.count()\n",
    "        while j < len(derecha):\n",
    "            cont.count()\n",
    "            lista[k]=derecha[j]\n",
    "            cont.count()\n",
    "            j=j+1\n",
    "            cont.count()\n",
    "            k=k+1\n",
    "            cont.count()"
   ]
  },
  {
   "cell_type": "code",
   "execution_count": 43,
   "metadata": {
    "collapsed": false
   },
   "outputs": [
    {
     "name": "stdout",
     "output_type": "stream",
     "text": [
      "Number of steps = 199\n"
     ]
    }
   ],
   "source": [
    "lista =[9,7,5,3,1,2,6,4,8]\n",
    "num = Counter()\n",
    "mergeSort_Cont(lista,num)\n",
    "num.print_steps()"
   ]
  },
  {
   "cell_type": "markdown",
   "metadata": {},
   "source": [
    "<h2>Análisis experimental</h2>\n",
    "Ahora vamos a analizar el comportamiento del algoritmo cuando el tamaño de la entrada varía. La siguiente función genera arreglos al azar de tamaño 1 a n, llama la función mergeSort_cont(l, acct) y contabiliza el número de pasos."
   ]
  },
  {
   "cell_type": "code",
   "execution_count": 44,
   "metadata": {
    "collapsed": true
   },
   "outputs": [],
   "source": [
    "import random as rnd\n",
    "\n",
    "def exper_analysis(n):\n",
    "    results = []\n",
    "    acct = Counter()\n",
    "    for i in range(n):\n",
    "        l = range(i)\n",
    "        rnd.shuffle(l)\n",
    "        acct.reset()\n",
    "        mergeSort_Cont(l, acct)\n",
    "        results.append(acct.steps)\n",
    "    return results"
   ]
  },
  {
   "cell_type": "code",
   "execution_count": 45,
   "metadata": {
    "collapsed": false
   },
   "outputs": [
    {
     "name": "stdout",
     "output_type": "stream",
     "text": [
      "[1, 1, 18, 40, 62, 89, 115, 143, 168, 201]\n"
     ]
    }
   ],
   "source": [
    "print exper_analysis(10)"
   ]
  },
  {
   "cell_type": "code",
   "execution_count": 46,
   "metadata": {
    "collapsed": false
   },
   "outputs": [
    {
     "data": {
      "text/plain": [
       "[<matplotlib.lines.Line2D at 0x9d78cf8>]"
      ]
     },
     "execution_count": 46,
     "metadata": {},
     "output_type": "execute_result"
    },
    {
     "data": {
      "image/png": "[encoded data removed]",
      "text/plain": [
       "<matplotlib.figure.Figure at 0x9a1ff28>"
      ]
     },
     "metadata": {},
     "output_type": "display_data"
    }
   ],
   "source": [
    "pl.clf()\n",
    "x = np.arange(100)\n",
    "y = np.array(exper_analysis(100))\n",
    "pl.plot(x, y, 'k.')"
   ]
  },
  {
   "cell_type": "markdown",
   "metadata": {},
   "source": [
    "<h2> Tiempo de ejecucion</h2>\n",
    "Haciendo uso de la funcion time_analysis(n) se toma el tiempo para los distintos tamaños de arreglos desde 1 hasta n"
   ]
  },
  {
   "cell_type": "code",
   "execution_count": 34,
   "metadata": {
    "collapsed": false
   },
   "outputs": [],
   "source": [
    "import time\n",
    "import random as rnd\n",
    "def time_analysis(n):\n",
    "    results = []\n",
    "    for i in range(n):\n",
    "        l = range(i)\n",
    "        rnd.shuffle(l)\n",
    "        t_inicial=time.clock()\n",
    "        mergeSort(l)\n",
    "        t_final= time.clock()\n",
    "        t_total=t_final-t_inicial\n",
    "        results.append(t_total*1000000)\n",
    "    return results\n",
    "\n"
   ]
  },
  {
   "cell_type": "code",
   "execution_count": 35,
   "metadata": {
    "collapsed": false
   },
   "outputs": [
    {
     "name": "stdout",
     "output_type": "stream",
     "text": [
      "[1.6553627517623681, 0.6621450836519216, 3.641798059561552, 4.966088226865395, 6.952523534664579, 9.270031370078868, 11.587539233914868, 13.905047069329157, 16.222554904743447, 19.533280408268183]\n"
     ]
    }
   ],
   "source": [
    "print time_analysis(10)"
   ]
  },
  {
   "cell_type": "code",
   "execution_count": 36,
   "metadata": {
    "collapsed": false
   },
   "outputs": [
    {
     "data": {
      "text/plain": [
       "[<matplotlib.lines.Line2D at 0x96830b8>]"
      ]
     },
     "execution_count": 36,
     "metadata": {},
     "output_type": "execute_result"
    },
    {
     "data": {
      "image/png": "[encoded data removed]",
      "text/plain": [
       "<matplotlib.figure.Figure at 0x9257710>"
      ]
     },
     "metadata": {},
     "output_type": "display_data"
    }
   ],
   "source": [
    "pl.clf()\n",
    "x = np.arange(100)\n",
    "y = np.array(time_analysis(100))\n",
    "pl.plot(x, y, 'k.',color='orange')"
   ]
  },
  {
   "cell_type": "markdown",
   "metadata": {
    "collapsed": true
   },
   "source": [
    "<h2>Analisis Teorico</h2>"
   ]
  },
  {
   "cell_type": "code",
   "execution_count": 37,
   "metadata": {
    "collapsed": true
   },
   "outputs": [],
   "source": [
    "from math import log\n",
    "def teoric_analysis(n):\n",
    "    results = []\n",
    "    for i in range(n):\n",
    "        l = range(i)\n",
    "        rnd.shuffle(l)\n",
    "        if(i>0):\n",
    "            i=i*(log(i)/log(2))\n",
    "        results.append(i)\n",
    "    return results"
   ]
  },
  {
   "cell_type": "code",
   "execution_count": 38,
   "metadata": {
    "collapsed": false
   },
   "outputs": [
    {
     "data": {
      "text/plain": [
       "[<matplotlib.lines.Line2D at 0x99623c8>]"
      ]
     },
     "execution_count": 38,
     "metadata": {},
     "output_type": "execute_result"
    },
    {
     "data": {
      "image/png": "[encoded data removed]",
      "text/plain": [
       "<matplotlib.figure.Figure at 0x9a0b2e8>"
      ]
     },
     "metadata": {},
     "output_type": "display_data"
    }
   ],
   "source": [
    "pl.clf()\n",
    "x = np.arange(100)\n",
    "y = np.array(teoric_analysis(100))\n",
    "pl.plot(x, y, 'k.',color='blue')"
   ]
  },
  {
   "cell_type": "markdown",
   "metadata": {},
   "source": [
    "<h1>Gráficas juntas</h1>"
   ]
  },
  {
   "cell_type": "code",
   "execution_count": 47,
   "metadata": {
    "collapsed": false
   },
   "outputs": [
    {
     "data": {
      "text/plain": [
       "[<matplotlib.lines.Line2D at 0x9fc9b38>]"
      ]
     },
     "execution_count": 47,
     "metadata": {},
     "output_type": "execute_result"
    },
    {
     "data": {
      "image/png": "[encoded data removed]",
      "text/plain": [
       "<matplotlib.figure.Figure at 0x9a2d6a0>"
      ]
     },
     "metadata": {},
     "output_type": "display_data"
    }
   ],
   "source": [
    "pl.clf()\n",
    "x = np.arange(100)\n",
    "y = np.array(teoric_analysis(100))\n",
    "pl.plot(x, y, 'k.',color='blue')\n",
    "x = np.arange(100)\n",
    "y = np.array(time_analysis(100))\n",
    "pl.plot(x, y, 'k.',color='orange') #Variable multiplicada por una constante muy grande\n",
    "x = np.arange(100)\n",
    "y = np.array(exper_analysis(100))   \n",
    "pl.plot(x, y, 'k.')"
   ]
  },
  {
   "cell_type": "code",
   "execution_count": null,
   "metadata": {
    "collapsed": true
   },
   "outputs": [],
   "source": []
  },
  {
   "cell_type": "code",
   "execution_count": null,
   "metadata": {
    "collapsed": true
   },
   "outputs": [],
   "source": []
  },
  {
   "cell_type": "code",
   "execution_count": null,
   "metadata": {
    "collapsed": true
   },
   "outputs": [],
   "source": []
  }
 ],
 "metadata": {
  "anaconda-cloud": {},
  "kernelspec": {
   "display_name": "Python [default]",
   "language": "python",
   "name": "python2"
  },
  "language_info": {
   "codemirror_mode": {
    "name": "ipython",
    "version": 2
   },
   "file_extension": ".py",
   "mimetype": "text/x-python",
   "name": "python",
   "nbconvert_exporter": "python",
   "pygments_lexer": "ipython2",
   "version": "2.7.12"
  }
 },
 "nbformat": 4,
 "nbformat_minor": 1
}
