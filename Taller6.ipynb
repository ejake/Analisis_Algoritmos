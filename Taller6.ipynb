{
 "cells": [
  {
   "cell_type": "markdown",
   "metadata": {},
   "source": [
    "<h1 style=\"color:red;\">Taller 6</h1>\n",
    "\n",
    "\n",
    "<h1> 1.  Método para crear grafos aleatorios</h1>\n",
    "<p>Se genera un grafo aleatorio, la funcion generarGrafo recibe: </p>\n",
    "<ul>\n",
    "<li>Un grafo vacio</li>\n",
    "<li>El numero de nodos</li>\n",
    "<li>La probabilidad de unir dos nodos: es un numero entre 0 y 1</li>\n",
    "<li>El rango en el que varia el peso de la arista</li>\n",
    "</ul>"
   ]
  },
  {
   "cell_type": "code",
   "execution_count": 1,
   "metadata": {
    "collapsed": true
   },
   "outputs": [],
   "source": [
    "import math\n",
    "import numpy as np\n",
    "import pylab as pl\n",
    "%matplotlib inline"
   ]
  },
  {
   "cell_type": "code",
   "execution_count": 2,
   "metadata": {
    "collapsed": false
   },
   "outputs": [],
   "source": [
    "\n",
    "def generarGrafo(G,n,proba,mini,maxi):\n",
    "    F={}\n",
    "    for i in range(0, n):\n",
    "        contador=0;\n",
    "        for j in range (0,n):\n",
    "            if(i!=j):\n",
    "                aux=np.random.uniform(0,1)\n",
    "                if(aux<proba):\n",
    "                    peso=np.random.randint(mini,maxi);\n",
    "                    if(contador==0):\n",
    "                        F={i:{j:peso}}\n",
    "                        contador=contador+1;\n",
    "                    else:\n",
    "                        F[i][j]=peso\n",
    "        G.update(F)\n"
   ]
  },
  {
   "cell_type": "code",
   "execution_count": 3,
   "metadata": {
    "collapsed": false
   },
   "outputs": [
    {
     "name": "stdout",
     "output_type": "stream",
     "text": [
      "{0: {1: 17, 2: 19, 3: 13}, 1: {2: 12, 3: 19, 4: 15}, 2: {0: 16}, 3: {0: 17, 2: 10, 4: 15}, 4: {0: 17, 1: 16, 2: 14}}\n"
     ]
    }
   ],
   "source": [
    "G={};\n",
    "generarGrafo(G,5,0.5,10,20)\n",
    "print (G);\n"
   ]
  },
  {
   "cell_type": "markdown",
   "metadata": {
    "collapsed": true
   },
   "source": [
    "<h1>2. Algoritmo de Dijkstra para calcular todos los pares de rutas más cortas</h1>"
   ]
  },
  {
   "cell_type": "code",
   "execution_count": 135,
   "metadata": {
    "collapsed": true
   },
   "outputs": [],
   "source": [
    "from heapq import heappush, heappop\n",
    "\n",
    "def updateheap(heap,d,v):\n",
    "    for i in range(len(heap)):\n",
    "        if heap[i][1] == v:\n",
    "            heap[i][0] = d\n",
    "            fix_minheap(heap,i) # heap=heapify(heap) ineficient      \n",
    "            break    \n",
    "\n",
    "def fix_minheap(heap, i):\n",
    "    if i == 0: return  \n",
    "    p = int(i/2) #parent  \n",
    "    if p >= 0 and heap[p][0] > heap[i][0]:\n",
    "        heap[i], heap[p] = heap[p], heap[i]\n",
    "        fix_minheap(heap,p)   \n",
    "            \n",
    "def Dijkstra(G,start):\n",
    "        \n",
    "    D = {} # dictionary of final distances\n",
    "    for v in G:\n",
    "        D[v] = float('inf')\n",
    "    D[start] = 0\n",
    "    \n",
    "    P = {} # dictionary of predecessors\n",
    "    \n",
    "    Q=[] #  priority queue est.dist. of non-final vert.\n",
    "    for v in G:\n",
    "        item = []\n",
    "        item.append(D[v])\n",
    "        item.append(v)\n",
    "        heappush(Q,item)\n",
    "    \n",
    "    \n",
    "    #S = []\n",
    "    while Q:\n",
    "        u = heappop(Q)[1]\n",
    "        #S.append(u)\n",
    "        for v in G[u]:\n",
    "            if(v in D.keys()):\n",
    "                newDuv = D[u] + G[u][v]\n",
    "                if newDuv < D[v]:\n",
    "                    P[v] = u\n",
    "                    D[v] = newDuv\n",
    "                    updateheap(Q,D[v],v)\n",
    "    return D,P"
   ]
  },
  {
   "cell_type": "code",
   "execution_count": 144,
   "metadata": {
    "collapsed": false
   },
   "outputs": [],
   "source": [
    "def shortestPath_Dijkstra(G):\n",
    "    lista=[]\n",
    "    for v in G:\n",
    "        D,P = Dijkstra(G,v)\n",
    "        print(\"Caminos para \",v, \" :\")\n",
    "        for e in G:\n",
    "            if(v!=e):\n",
    "                path=[]\n",
    "                contador=0;\n",
    "                while 1:\n",
    "                    if contador==10: \n",
    "                        path=[]\n",
    "                        break;\n",
    "                    path.append(e)\n",
    "                    if(v==e):break;\n",
    "                    if(e in P.keys()):\n",
    "                        e=P[e]\n",
    "                    contador=contador+1\n",
    "                path.reverse()\n",
    "                lista.append(path)\n",
    "                print(path)\n",
    "    return lista;"
   ]
  },
  {
   "cell_type": "code",
   "execution_count": 147,
   "metadata": {
    "collapsed": false
   },
   "outputs": [
    {
     "name": "stdout",
     "output_type": "stream",
     "text": [
      "{0: {1: 12, 2: 14, 3: 10, 4: 18}, 1: {2: 13, 3: 10, 4: 15}, 2: {0: 17, 1: 18, 3: 11, 4: 18}, 3: {1: 17, 2: 17, 4: 18}, 4: {0: 10, 1: 11, 2: 13, 3: 12}}\n",
      "Caminos para  0  :\n",
      "[0, 1]\n",
      "[0, 2]\n",
      "[0, 3]\n",
      "[0, 4]\n",
      "Caminos para  1  :\n",
      "[1, 4, 0]\n",
      "[1, 2]\n",
      "[1, 3]\n",
      "[1, 4]\n",
      "Caminos para  2  :\n",
      "[2, 0]\n",
      "[2, 1]\n",
      "[2, 3]\n",
      "[2, 4]\n",
      "Caminos para  3  :\n",
      "[3, 4, 0]\n",
      "[3, 1]\n",
      "[3, 2]\n",
      "[3, 4]\n",
      "Caminos para  4  :\n",
      "[4, 0]\n",
      "[4, 1]\n",
      "[4, 2]\n",
      "[4, 3]\n",
      "Todas las rutas:  [[0, 1], [0, 2], [0, 3], [0, 4], [1, 4, 0], [1, 2], [1, 3], [1, 4], [2, 0], [2, 1], [2, 3], [2, 4], [3, 4, 0], [3, 1], [3, 2], [3, 4], [4, 0], [4, 1], [4, 2], [4, 3]]\n"
     ]
    }
   ],
   "source": [
    "G={};\n",
    "generarGrafo(G,5,0.7,10,20)\n",
    "print (G);\n",
    "print(\"Todas las rutas: \",shortestPath_Dijkstra(G))"
   ]
  },
  {
   "cell_type": "markdown",
   "metadata": {
    "collapsed": false
   },
   "source": [
    "<h1>3. Algoritmo de Bellman-Ford para calcular todos los pares de rutas más cortas</h1>"
   ]
  },
  {
   "cell_type": "code",
   "execution_count": 158,
   "metadata": {
    "collapsed": false
   },
   "outputs": [],
   "source": [
    "def BellmanFord(G,start):\n",
    "    \n",
    "    D = {} # dictionary of final distances\n",
    "    for v in G:\n",
    "        D[v] = float('inf')\n",
    "    D[start] = 0\n",
    "    \n",
    "    P = {} # dictionary of predecessors\n",
    "    \n",
    "    for i in range(len(G)-1):\n",
    "        for u in G:\n",
    "            for v in G[u]:\n",
    "                if(v in D.keys()):\n",
    "                    newDv = D[u] + G[u][v]\n",
    "                    if newDv < D[v]:\n",
    "                        P[v] = u\n",
    "                        D[v] = newDv\n",
    "    \n",
    "    for u in G:\n",
    "        for v in G[u]:\n",
    "            if(v in D.keys()):\n",
    "                newDv = D[u] + G[u][v]\n",
    "                if newDv < D[v]: break;\n",
    "    #print(\"Negative cicle\",u,v)\n",
    "                \n",
    "    return D,P"
   ]
  },
  {
   "cell_type": "code",
   "execution_count": 159,
   "metadata": {
    "collapsed": false
   },
   "outputs": [],
   "source": [
    "def shortestPath_Bellman(G,nombre):\n",
    "    lista=[]\n",
    "    for v in G:\n",
    "        if(nombre==\"bellman\"):\n",
    "            D,P = BellmanFord(G,v)\n",
    "        else:\n",
    "            Dijkstra(G,v)\n",
    "                \n",
    "        for e in G:\n",
    "            if(v!=e):\n",
    "                path=[]\n",
    "                contador=0;\n",
    "                while 1:\n",
    "                    if contador==10: \n",
    "                        path=[]\n",
    "                        break;\n",
    "                    path.append(e)\n",
    "                    if(v==e):break;\n",
    "                    if(e in P.keys()):    \n",
    "                        e=P[e]\n",
    "                    contador=contador+1\n",
    "                path.reverse()\n",
    "                if(path!=[]):\n",
    "                    lista.append(path)\n",
    "                    print(path)\n",
    "    return lista;\n",
    "\n"
   ]
  },
  {
   "cell_type": "code",
   "execution_count": 160,
   "metadata": {
    "collapsed": false
   },
   "outputs": [
    {
     "name": "stdout",
     "output_type": "stream",
     "text": [
      "{0: {1: 8, 3: -4}, 1: {3: 0, 4: 1}, 2: {1: 5, 3: 1, 4: 3}, 3: {0: 7, 2: 6, 4: 3}, 4: {1: -9, 3: 8}}\n",
      "[1, 3, 0]\n",
      "[1, 3, 2]\n",
      "[1, 3]\n",
      "[1, 4]\n",
      "[3, 0]\n",
      "[3, 2]\n",
      "[4, 1, 3, 0]\n",
      "[4, 1]\n",
      "[4, 1, 3, 2]\n",
      "[4, 1, 3]\n",
      "Todas las rutas:  [[1, 3, 0], [1, 3, 2], [1, 3], [1, 4], [3, 0], [3, 2], [4, 1, 3, 0], [4, 1], [4, 1, 3, 2], [4, 1, 3]]\n"
     ]
    }
   ],
   "source": [
    "G={};\n",
    "generarGrafo(G,5,0.7,-10,10)\n",
    "print (G);\n",
    "print(\"Todas las rutas: \",shortestPath_Bellman(G,\"bellman\"));"
   ]
  },
  {
   "cell_type": "markdown",
   "metadata": {},
   "source": [
    "<h1>4. Algoritmo de BFS para calcular todos los pares de rutas más cortas</h1>"
   ]
  },
  {
   "cell_type": "code",
   "execution_count": 175,
   "metadata": {
    "collapsed": false
   },
   "outputs": [],
   "source": [
    "def backtrac(parent, start, end):\n",
    "    path = [end]\n",
    "    while path[-1] != start:\n",
    "        path.append(parent[path[-1]])\n",
    "    path.reverse()\n",
    "    return path\n",
    "\n",
    "\n",
    "def bfs_conImpresion(graph, source, target):\n",
    "    queue = []\n",
    "    visited = {}\n",
    "    parent = {}\n",
    "    \n",
    "    for node in range(len(graph)):\n",
    "        visited[node] = False\n",
    "        parent[node] = None\n",
    "    \n",
    "    queue.append(source)\n",
    "    while len(queue) != 0:\n",
    "        current = queue.pop(0)\n",
    "        if current == target:\n",
    "            print (backtrac(parent, source, target))\n",
    "            return backtrac(parent, source, target)\n",
    "            break\n",
    "        for neighbor in graph[current]:\n",
    "            if(neighbor in visited.keys()):\n",
    "                if visited[neighbor] == False:\n",
    "                    visited[neighbor] = True\n",
    "                    parent[neighbor] = current\n",
    "                    queue.append(neighbor)\n",
    "                \n",
    "                \n",
    "def bfs(graph, source, target):\n",
    "    queue = []\n",
    "    visited = {}\n",
    "    parent = {}\n",
    "    \n",
    "    for node in range(len(graph)):\n",
    "        visited[node] = False\n",
    "        parent[node] = None\n",
    "    \n",
    "    queue.append(source)\n",
    "    while len(queue) != 0:\n",
    "        current = queue.pop(0)\n",
    "        if current == target:\n",
    "            return backtrac(parent, source, target)\n",
    "            break\n",
    "        for neighbor in graph[current]:\n",
    "            if(neighbor in visited.keys()):\n",
    "                if visited[neighbor] == False:\n",
    "                    visited[neighbor] = True\n",
    "                    parent[neighbor] = current\n",
    "                    queue.append(neighbor)\n",
    "    \n",
    "def shortestPath_BFS(G):\n",
    "    for v in G:\n",
    "        for d in G:\n",
    "            if(v!=d):\n",
    "                lista.append(bfs_conImpresion(G,v,d));\n",
    "    return lista;"
   ]
  },
  {
   "cell_type": "code",
   "execution_count": 179,
   "metadata": {
    "collapsed": false
   },
   "outputs": [
    {
     "name": "stdout",
     "output_type": "stream",
     "text": [
      "{0: {2: 0, 3: 3}, 1: {0: 5, 2: 0, 3: 4, 4: 2}, 2: {0: 7, 1: 9, 3: 4, 4: 5}, 3: {0: 2, 1: 6, 2: 7}, 4: {0: 9, 1: 3, 2: 8, 3: 8}}\n",
      "[0, 2, 1]\n",
      "[0, 2]\n",
      "[0, 3]\n",
      "[0, 2, 4]\n",
      "[1, 0]\n",
      "[1, 2]\n",
      "[1, 3]\n",
      "[1, 4]\n",
      "[2, 0]\n",
      "[2, 1]\n",
      "[2, 3]\n",
      "[2, 4]\n",
      "[3, 0]\n",
      "[3, 1]\n",
      "[3, 2]\n",
      "[3, 1, 4]\n",
      "[4, 0]\n",
      "[4, 1]\n",
      "[4, 2]\n",
      "[4, 3]\n",
      "lista completa:  [[0, 2, 1], [0, 2], [0, 3], [0, 2, 4], [1, 0], [1, 2], [1, 3], [1, 4], [2, 0], [2, 1], [2, 3], [2, 4], [3, 0], [3, 1], [3, 2], [3, 1, 4], [4, 0], [4, 1], [4, 2], [4, 3]]\n"
     ]
    }
   ],
   "source": [
    "G={};\n",
    "lista=[]\n",
    "generarGrafo(G,5,0.7,0,10)\n",
    "print(G);\n",
    "lista= shortestPath_BFS(G);\n",
    "\n",
    "print(\"lista completa: \",lista)\n",
    "\n"
   ]
  },
  {
   "cell_type": "markdown",
   "metadata": {},
   "source": [
    "<h1>5. Analisis grafos aleatorios densos</h1>\n",
    "<p>Para estos grafos al no presentarse muchas conexiones entre los nodos, en algunos casos el BFS no se genera de forma correcta.</p>"
   ]
  },
  {
   "cell_type": "code",
   "execution_count": 200,
   "metadata": {
    "collapsed": true
   },
   "outputs": [],
   "source": [
    "import time\n",
    "import random as rnd\n",
    "def time_analysis_Dijkstra_d(n):\n",
    "    results = []\n",
    "    for i in range(n):\n",
    "        G={}\n",
    "        aux=np.random.uniform(0,0.1)\n",
    "        generarGrafo(G,n,aux,0,10)\n",
    "        for g in G:\n",
    "            t_inicial=time.clock()\n",
    "            Dijkstra(G,g)\n",
    "            t_final= time.clock()\n",
    "            results.append(t_final-t_inicial)\n",
    "    print(len(results))\n",
    "    return results"
   ]
  },
  {
   "cell_type": "code",
   "execution_count": 201,
   "metadata": {
    "collapsed": false
   },
   "outputs": [
    {
     "name": "stdout",
     "output_type": "stream",
     "text": [
      "5\n",
      "[1.8666674918677018e-05, 1.8222230323772237e-05, 8.000003504093911e-06, 1.2444450021575904e-05, 4.000001808890374e-06]\n"
     ]
    }
   ],
   "source": [
    "print(time_analysis_Dijkstra_d(5))"
   ]
  },
  {
   "cell_type": "code",
   "execution_count": 202,
   "metadata": {
    "collapsed": true
   },
   "outputs": [],
   "source": [
    "import time\n",
    "import random as rnd\n",
    "def time_analysis_Bellman_d(n):\n",
    "    results = []\n",
    "    for i in range(n):\n",
    "        G={}\n",
    "        aux=np.random.uniform(0,0.1)\n",
    "        generarGrafo(G,n,aux,-10,10)\n",
    "        for g in G:\n",
    "            t_inicial=time.clock()\n",
    "            BellmanFord(G,g)\n",
    "            t_final= time.clock()\n",
    "            results.append(t_final-t_inicial)\n",
    "    print(len(results))\n",
    "    return results"
   ]
  },
  {
   "cell_type": "code",
   "execution_count": 203,
   "metadata": {
    "collapsed": false
   },
   "outputs": [
    {
     "name": "stdout",
     "output_type": "stream",
     "text": [
      "6\n",
      "[7.11111431428435e-06, 1.0666671414583107e-05, 8.444448098998691e-06, 7.555559022875968e-06, 8.000003504093911e-06, 3.111112505393976e-06]\n"
     ]
    }
   ],
   "source": [
    "print(time_analysis_Bellman_d(5))"
   ]
  },
  {
   "cell_type": "code",
   "execution_count": 204,
   "metadata": {
    "collapsed": true
   },
   "outputs": [],
   "source": [
    "import time\n",
    "import random as rnd\n",
    "def time_analysis_BFS_d(n):\n",
    "    results = []\n",
    "    for i in range(n):\n",
    "        G={}\n",
    "        aux=np.random.uniform(0,0.1)\n",
    "        generarGrafo(G,n,aux,-10,10)\n",
    "        for g in G:\n",
    "            for v in G:\n",
    "                t_inicial=time.clock()\n",
    "                bfs(G,g,v)\n",
    "                t_final= time.clock()\n",
    "                results.append(t_final-t_inicial)\n",
    "    print(len(results))\n",
    "    return results"
   ]
  },
  {
   "cell_type": "code",
   "execution_count": 206,
   "metadata": {
    "collapsed": false
   },
   "outputs": [
    {
     "name": "stdout",
     "output_type": "stream",
     "text": [
      "6\n",
      "[7.11111431428435e-06, 4.000001808890374e-06, 2.6666677968023578e-06, 2.6666679104891955e-06, 2.6666677968023578e-06, 2.2222232018975774e-06]\n"
     ]
    }
   ],
   "source": [
    "print(time_analysis_BFS_d(5))"
   ]
  },
  {
   "cell_type": "code",
   "execution_count": 234,
   "metadata": {
    "collapsed": false
   },
   "outputs": [
    {
     "name": "stdout",
     "output_type": "stream",
     "text": [
      "29\n",
      "32\n",
      "6\n"
     ]
    },
    {
     "data": {
      "text/plain": [
       "[<matplotlib.lines.Line2D at 0x15e81b80438>]"
      ]
     },
     "execution_count": 234,
     "metadata": {},
     "output_type": "execute_result"
    },
    {
     "data": {
      "image/png": "[encoded data removed]",
      "text/plain": [
       "<matplotlib.figure.Figure at 0x15e81c67a90>"
      ]
     },
     "metadata": {},
     "output_type": "display_data"
    }
   ],
   "source": [
    "pl.clf()\n",
    "y = np.array(time_analysis_Dijkstra_d(10))\n",
    "x=np.arange(len(y))\n",
    "pl.plot(x, y, 'k.',color='blue')\n",
    "y = np.array(time_analysis_Bellman_d(10))\n",
    "x=np.arange(len(y))\n",
    "pl.plot(x, y, 'k.',color='red')\n",
    "y = np.array(time_analysis_BFS_d(5))\n",
    "x=np.arange(len(y))\n",
    "pl.plot(x, y, 'k.',color='green')"
   ]
  },
  {
   "cell_type": "markdown",
   "metadata": {},
   "source": [
    "<h1>6. Analisis grafos aleatorios dispersos</h1>"
   ]
  },
  {
   "cell_type": "code",
   "execution_count": 224,
   "metadata": {
    "collapsed": true
   },
   "outputs": [],
   "source": [
    "import time\n",
    "import random as rnd\n",
    "def time_analysis_Dijkstra(n):\n",
    "    results = []\n",
    "    for i in range(n):\n",
    "        G={}\n",
    "        aux=np.random.uniform(0.9,1)\n",
    "        generarGrafo(G,n,aux,0,10)\n",
    "        for g in G:\n",
    "            t_inicial=time.clock()\n",
    "            Dijkstra(G,g)\n",
    "            t_final= time.clock()\n",
    "            results.append(t_final-t_inicial)\n",
    "    print(len(results))\n",
    "    return results"
   ]
  },
  {
   "cell_type": "code",
   "execution_count": 225,
   "metadata": {
    "collapsed": false
   },
   "outputs": [
    {
     "name": "stdout",
     "output_type": "stream",
     "text": [
      "9\n",
      "[2.488889992946497e-05, 1.2444449907889066e-05, 1.2000005312984285e-05, 1.2000005312984285e-05, 1.0222226819678326e-05, 1.0222226819678326e-05, 1.1555560718079505e-05, 1.2444450021575904e-05, 1.2000005312984285e-05]\n"
     ]
    }
   ],
   "source": [
    "print(time_analysis_Dijkstra(3))"
   ]
  },
  {
   "cell_type": "code",
   "execution_count": 226,
   "metadata": {
    "collapsed": true
   },
   "outputs": [],
   "source": [
    "import time\n",
    "import random as rnd\n",
    "def time_analysis_Bellman(n):\n",
    "    results = []\n",
    "    for i in range(n):\n",
    "        G={}\n",
    "        aux=np.random.uniform(0.9,1)\n",
    "        generarGrafo(G,n,aux,-10,10)\n",
    "        for g in G:\n",
    "            t_inicial=time.clock()\n",
    "            BellmanFord(G,g)\n",
    "            t_final= time.clock()\n",
    "            results.append(t_final-t_inicial)\n",
    "    print(len(results))\n",
    "    return results"
   ]
  },
  {
   "cell_type": "code",
   "execution_count": 227,
   "metadata": {
    "collapsed": false
   },
   "outputs": [
    {
     "name": "stdout",
     "output_type": "stream",
     "text": [
      "25\n",
      "[5.555558027481311e-05, 4.844446596052876e-05, 4.622224275863118e-05, 4.622224275863118e-05, 4.666668735353596e-05, 4.800002136562398e-05, 4.5333353455134784e-05, 4.5333353455134784e-05, 4.444446426532522e-05, 4.4444464151638385e-05, 4.57777981637264e-05, 4.444446426532522e-05, 4.444446426532522e-05, 4.4444464151638385e-05, 4.4888908860230003e-05, 4.888891066912038e-05, 4.75555767707192e-05, 4.755557665703236e-05, 4.755557665703236e-05, 4.844446596052876e-05, 4.800002136562398e-05, 4.711113194844074e-05, 4.800002136562398e-05, 4.711113206212758e-05, 4.711113206212758e-05]\n"
     ]
    }
   ],
   "source": [
    "print(time_analysis_Bellman(5))"
   ]
  },
  {
   "cell_type": "code",
   "execution_count": 228,
   "metadata": {
    "collapsed": true
   },
   "outputs": [],
   "source": [
    "import time\n",
    "import random as rnd\n",
    "def time_analysis_BFS(n):\n",
    "    results = []\n",
    "    for i in range(n):\n",
    "        G={}\n",
    "        aux=np.random.uniform(0.9,1)\n",
    "        generarGrafo(G,n,aux,-10,10)\n",
    "        for g in G:\n",
    "            for v in G:\n",
    "                t_inicial=time.clock()\n",
    "                bfs(G,g,v)\n",
    "                t_final= time.clock()\n",
    "                results.append(t_final-t_inicial)\n",
    "    print(len(results))\n",
    "    return results"
   ]
  },
  {
   "cell_type": "code",
   "execution_count": 229,
   "metadata": {
    "collapsed": false
   },
   "outputs": [
    {
     "name": "stdout",
     "output_type": "stream",
     "text": [
      "125\n",
      "[8.444448212685529e-06, 8.88889280759031e-06, 8.88889280759031e-06, 1.2444450021575904e-05, 8.444448212685529e-06, 6.222225010787952e-06, 3.111112505393976e-06, 7.555558909189131e-06, 8.444448098998691e-06, 9.777782111086708e-06, 5.777780302196334e-06, 7.1111142005975125e-06, 3.111112505393976e-06, 8.444448212685529e-06, 9.777782111086708e-06, 6.222225010787952e-06, 7.11111431428435e-06, 8.444448098998691e-06, 3.111112505393976e-06, 9.777782111086708e-06, 5.777780415883171e-06, 8.444448212685529e-06, 8.444448212685529e-06, 9.777782111086708e-06, 3.111112505393976e-06, 4.000001695203537e-06, 6.222225010787952e-06, 7.555558909189131e-06, 8.88889280759031e-06, 1.1555560718079505e-05, 6.222225010787952e-06, 3.111112505393976e-06, 7.1111142005975125e-06, 8.444448098998691e-06, 1.0222226819678326e-05, 5.777780415883171e-06, 7.1111142005975125e-06, 3.111112505393976e-06, 8.444448212685529e-06, 1.0222226705991488e-05, 5.777780302196334e-06, 7.1111142005975125e-06, 8.444448212685529e-06, 3.111112505393976e-06, 9.777782111086708e-06, 5.777780415883171e-06, 7.11111431428435e-06, 8.444448098998691e-06, 1.0222226819678326e-05, 3.5555571002987563e-06, 3.555557213985594e-06, 6.222225010787952e-06, 7.555558909189131e-06, 8.88889280759031e-06, 1.0222226705991488e-05, 6.222225010787952e-06, 3.111112391707138e-06, 7.555558909189131e-06, 8.88889280759031e-06, 1.0222226819678326e-05, 5.777780302196334e-06, 7.1111142005975125e-06, 3.111112505393976e-06, 8.88889280759031e-06, 1.0222226819678326e-05, 6.222225010787952e-06, 7.555558909189131e-06, 9.777782111086708e-06, 3.111112505393976e-06, 1.0222226705991488e-05, 5.777780302196334e-06, 7.11111431428435e-06, 8.444448212685529e-06, 9.777782224773546e-06, 3.111112505393976e-06, 3.5555571002987563e-06, 6.222225010787952e-06, 7.11111431428435e-06, 8.444448212685529e-06, 1.0222226819678326e-05, 5.777780415883171e-06, 3.111112505393976e-06, 7.555558909189131e-06, 8.444448212685529e-06, 1.0222226705991488e-05, 5.777780302196334e-06, 7.11111431428435e-06, 3.111112505393976e-06, 8.444448212685529e-06, 9.777782111086708e-06, 6.222225010787952e-06, 7.1111142005975125e-06, 8.88889280759031e-06, 3.111112505393976e-06, 1.0222226819678326e-05, 5.777780415883171e-06, 7.555558909189131e-06, 8.88889280759031e-06, 1.0222226819678326e-05, 3.111112505393976e-06, 3.5555571002987563e-06, 5.777780302196334e-06, 7.555558909189131e-06, 8.888892921277147e-06, 1.0222226819678326e-05, 5.777780302196334e-06, 3.111112505393976e-06, 7.555558909189131e-06, 8.444448098998691e-06, 1.0222226705991488e-05, 6.222225010787952e-06, 7.555558909189131e-06, 3.111112505393976e-06, 8.88889280759031e-06, 1.0222226705991488e-05, 5.777780302196334e-06, 7.555558909189131e-06, 8.444448212685529e-06, 3.111112505393976e-06, 1.0222226705991488e-05, 6.666669605692732e-06, 7.555558909189131e-06, 8.444448098998691e-06, 1.0222226705991488e-05, 3.111112505393976e-06]\n"
     ]
    }
   ],
   "source": [
    "print(time_analysis_BFS(5))"
   ]
  },
  {
   "cell_type": "code",
   "execution_count": 231,
   "metadata": {
    "collapsed": false
   },
   "outputs": [
    {
     "name": "stdout",
     "output_type": "stream",
     "text": [
      "100\n",
      "100\n",
      "125\n"
     ]
    },
    {
     "data": {
      "text/plain": [
       "[<matplotlib.lines.Line2D at 0x15e81cc0518>]"
      ]
     },
     "execution_count": 231,
     "metadata": {},
     "output_type": "execute_result"
    },
    {
     "data": {
      "image/png": "[encoded data removed]",
      "text/plain": [
       "<matplotlib.figure.Figure at 0x15e81db22b0>"
      ]
     },
     "metadata": {},
     "output_type": "display_data"
    }
   ],
   "source": [
    "pl.clf()\n",
    "y = np.array(time_analysis_Dijkstra(10))\n",
    "x=np.arange(len(y))\n",
    "pl.plot(x, y, 'k.',color='blue')\n",
    "y = np.array(time_analysis_Bellman(10))\n",
    "x=np.arange(len(y))\n",
    "pl.plot(x, y, 'k.',color='red')\n",
    "y = np.array(time_analysis_BFS(5))\n",
    "x=np.arange(len(y))\n",
    "pl.plot(x, y, 'k.',color='green')"
   ]
  },
  {
   "cell_type": "code",
   "execution_count": null,
   "metadata": {
    "collapsed": true
   },
   "outputs": [],
   "source": []
  }
 ],
 "metadata": {
  "anaconda-cloud": {},
  "kernelspec": {
   "display_name": "Python [conda root]",
   "language": "python",
   "name": "conda-root-py"
  },
  "language_info": {
   "codemirror_mode": {
    "name": "ipython",
    "version": 3
   },
   "file_extension": ".py",
   "mimetype": "text/x-python",
   "name": "python",
   "nbconvert_exporter": "python",
   "pygments_lexer": "ipython3",
   "version": "3.5.2"
  }
 },
 "nbformat": 4,
 "nbformat_minor": 1
}
