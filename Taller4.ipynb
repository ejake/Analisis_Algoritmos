{
 "cells": [
  {
   "cell_type": "code",
   "execution_count": 2,
   "metadata": {
    "collapsed": true
   },
   "outputs": [],
   "source": [
    "import math\n",
    "import numpy as np\n",
    "import pylab as pl\n",
    "%matplotlib inline"
   ]
  },
  {
   "cell_type": "markdown",
   "metadata": {},
   "source": [
    "<h1>1. La subsecuencia común más larga (SCL) apartir de la matriz C construida.</h1>"
   ]
  },
  {
   "cell_type": "code",
   "execution_count": 80,
   "metadata": {
    "collapsed": true
   },
   "outputs": [],
   "source": [
    "global C\n",
    "\n",
    "def lcs(X,Y):\n",
    "    global C\n",
    "    C = np.ones((len(X)+1,len(Y)+1))*-1\n",
    "    lcs3(X,Y,len(X),len(Y))\n",
    "    return C[len(X)-1,len(Y)-1], C\n",
    "    \n",
    "\n",
    "def lcs3(x,y,i,j):\n",
    "    global C\n",
    "    if C[i,j] == -1:\n",
    "        if i == 0 or j == 0:\n",
    "            C[i,j] = 0\n",
    "        else:\n",
    "            if x[i-1]==y[j-1]:\n",
    "                C[i,j] = lcs3(x,y,i-1,j-1)+1\n",
    "            else:\n",
    "                C[i,j] = max(lcs3(x,y,i-1,j),lcs3(x,y,i,j-1))\n",
    "                \n",
    "    return C[i,j]"
   ]
  },
  {
   "cell_type": "markdown",
   "metadata": {},
   "source": [
    "<h3> Algoritmo que retorna la cadena mas larga a partir de la matriz creada por el algoritmo anterior</h3>"
   ]
  },
  {
   "cell_type": "code",
   "execution_count": 89,
   "metadata": {
    "collapsed": true
   },
   "outputs": [],
   "source": [
    "def cadena_lsc(X,Y,C):\n",
    "    j=len(Y)\n",
    "    i=len(X)\n",
    "    ca=''\n",
    "    while(C[i][j]>0 and i >= 0 and j >=0):\n",
    "        if(C[i][j-1] == C[i][j]):\n",
    "            j=j-1;\n",
    "            continue;\n",
    "        if(C[i-1][j] == C[i][j] ):\n",
    "            i=i-1;\n",
    "            continue;    \n",
    "        val = Y[j-1]\n",
    "        ca+=val;\n",
    "        i=i-1;\n",
    "        j=j-1;\n",
    "    cb=ca[::-1]\n",
    "    print (cb);"
   ]
  },
  {
   "cell_type": "code",
   "execution_count": 90,
   "metadata": {
    "collapsed": false
   },
   "outputs": [
    {
     "name": "stdout",
     "output_type": "stream",
     "text": [
      "[[ 0. -1.  0.  0.  0.  0.  0.  0.]\n",
      " [-1.  1.  1.  1.  1.  1.  1.  1.]\n",
      " [ 0.  1.  2.  2.  2.  2.  2.  2.]\n",
      " [ 0.  1.  2.  3.  3.  3.  3.  3.]\n",
      " [ 0.  1.  2.  3.  4.  4.  4.  4.]\n",
      " [ 0.  1.  2.  3.  4.  5.  5.  5.]\n",
      " [ 0.  1.  2.  3.  4.  5.  5.  5.]\n",
      " [ 0.  1.  2.  3.  4.  5.  5.  5.]]\n",
      "ABCDE\n"
     ]
    }
   ],
   "source": [
    "len_lcs, lcs_mat = lcs('ABCDEER','ABCDEFG')\n",
    "print (lcs_mat);\n",
    "cadena_lsc('ABCDEER','ABCDEFG',lcs_mat)"
   ]
  },
  {
   "cell_type": "markdown",
   "metadata": {},
   "source": [
    "<h1> 2. Problema del corte de la barilla</h1>"
   ]
  },
  {
   "cell_type": "markdown",
   "metadata": {},
   "source": [
    "<p>Implementación simple de arriba hacia abajo (top-down)<p>\n"
   ]
  },
  {
   "cell_type": "code",
   "execution_count": 2,
   "metadata": {
    "collapsed": true
   },
   "outputs": [],
   "source": [
    "def cut_rodR(p, n):\n",
    "    if n==0:\n",
    "        return 0\n",
    "    q = float('-inf')\n",
    "    for i in range(n):\n",
    "        #print i\n",
    "        q = max(q, p[i] + cut_rodR(p, n-1-i))\n",
    "    return q"
   ]
  },
  {
   "cell_type": "code",
   "execution_count": 3,
   "metadata": {
    "collapsed": true
   },
   "outputs": [],
   "source": [
    "p = [1,5,8,9,10,17,17,20,24,30]"
   ]
  },
  {
   "cell_type": "code",
   "execution_count": 5,
   "metadata": {
    "collapsed": false
   },
   "outputs": [
    {
     "name": "stdout",
     "output_type": "stream",
     "text": [
      "22\n"
     ]
    }
   ],
   "source": [
    "sol = cut_rodR(p,8)\n",
    "print (sol)"
   ]
  },
  {
   "cell_type": "code",
   "execution_count": 122,
   "metadata": {
    "collapsed": true
   },
   "outputs": [],
   "source": [
    "import time\n",
    "import random as rnd\n",
    "def time_analysis_cut_rodR(n):\n",
    "    results = []\n",
    "    for i in range(n):\n",
    "        t_inicial=time.clock()\n",
    "        cut_rodR(p, i)\n",
    "        t_final= time.clock()\n",
    "        results.append(t_final-t_inicial)\n",
    "    return results"
   ]
  },
  {
   "cell_type": "code",
   "execution_count": 123,
   "metadata": {
    "collapsed": false
   },
   "outputs": [
    {
     "name": "stdout",
     "output_type": "stream",
     "text": [
      "[2.2222241966574074e-06, 6.222227739272057e-06, 4.444448393314815e-06, 7.5555622629508434e-06, 1.5111124554323396e-05, 2.9777804229524918e-05, 6.000005333817171e-05, 0.00012000010667634342]\n"
     ]
    }
   ],
   "source": [
    "print (time_analysis_cut_rodR(8))"
   ]
  },
  {
   "cell_type": "markdown",
   "metadata": {},
   "source": [
    "<p> Implementación de arriba hacia abajo con memorización (memoization)</p>"
   ]
  },
  {
   "cell_type": "code",
   "execution_count": 117,
   "metadata": {
    "collapsed": true
   },
   "outputs": [],
   "source": [
    "def memo_cut_rodTD(p, n):\n",
    "    r = [-1] * (n+1)\n",
    "    return memo_cut_rodTD_aux(p,n,r)\n",
    "\n",
    "def memo_cut_rodTD_aux(p,n,r):\n",
    "    if r[n] >= 0:\n",
    "        return r[n]\n",
    "    if n == 0:\n",
    "        q = 0\n",
    "    else:\n",
    "        q = float('-inf')\n",
    "        for i in range(1,n+1):\n",
    "            q = max(q, p[i-1]+memo_cut_rodTD_aux(p,n-i,r))\n",
    "    r[n]=q\n",
    "    return q"
   ]
  },
  {
   "cell_type": "code",
   "execution_count": 118,
   "metadata": {
    "collapsed": false
   },
   "outputs": [
    {
     "name": "stdout",
     "output_type": "stream",
     "text": [
      "22\n"
     ]
    }
   ],
   "source": [
    "sol = memo_cut_rodTD(p,8)\n",
    "print (sol)"
   ]
  },
  {
   "cell_type": "code",
   "execution_count": 119,
   "metadata": {
    "collapsed": true
   },
   "outputs": [],
   "source": [
    "import time\n",
    "import random as rnd\n",
    "def time_analysis_cut_rodTD(n):\n",
    "    results = []\n",
    "    for i in range(n):\n",
    "        t_inicial=time.clock()\n",
    "        memo_cut_rodTD(p, i)\n",
    "        t_final= time.clock()\n",
    "        results.append(t_final-t_inicial)\n",
    "    return results"
   ]
  },
  {
   "cell_type": "code",
   "execution_count": 120,
   "metadata": {
    "collapsed": false
   },
   "outputs": [
    {
     "name": "stdout",
     "output_type": "stream",
     "text": [
      "[3.1111138696360285e-06, 8.000007113651009e-06, 6.666672589972222e-06, 8.444451964351174e-06, 1.1555565805565493e-05, 1.5111124554323396e-05, 1.9111128096938046e-05, 2.4444466163231482e-05]\n"
     ]
    }
   ],
   "source": [
    "print (time_analysis_cut_rodTD(8))"
   ]
  },
  {
   "cell_type": "markdown",
   "metadata": {},
   "source": [
    "<p> Implementación abajo hacia arriba (bottom-up) con memorización</p>"
   ]
  },
  {
   "cell_type": "code",
   "execution_count": 106,
   "metadata": {
    "collapsed": false
   },
   "outputs": [],
   "source": [
    "def memo_cut_rodBU(p,n):\n",
    "    r = [0] * (n+1)\n",
    "    r[0] = 0\n",
    "    for j in range(1,n+1):\n",
    "        q = float('-inf')\n",
    "        for i in range(1,j+1):            \n",
    "            q = max(q, p[i-1]+r[j-i])\n",
    "        r[j] = q\n",
    "    return r[n]\n"
   ]
  },
  {
   "cell_type": "code",
   "execution_count": 124,
   "metadata": {
    "collapsed": false
   },
   "outputs": [
    {
     "name": "stdout",
     "output_type": "stream",
     "text": [
      "22\n"
     ]
    }
   ],
   "source": [
    "sol = memo_cut_rodBU(p,8)\n",
    "print (sol)"
   ]
  },
  {
   "cell_type": "code",
   "execution_count": 125,
   "metadata": {
    "collapsed": true
   },
   "outputs": [],
   "source": [
    "import time\n",
    "import random as rnd\n",
    "def time_analysis_cut_rodBU(n):\n",
    "    results = []\n",
    "    for i in range(n):\n",
    "        t_inicial=time.clock()\n",
    "        memo_cut_rodBU(p, i)\n",
    "        t_final= time.clock()\n",
    "        results.append(t_final-t_inicial)\n",
    "    return results"
   ]
  },
  {
   "cell_type": "code",
   "execution_count": 126,
   "metadata": {
    "collapsed": false
   },
   "outputs": [
    {
     "name": "stdout",
     "output_type": "stream",
     "text": [
      "[3.1111138696360285e-06, 8.000007113651009e-06, 5.333338066293436e-06, 7.111117440672388e-06, 9.333341608908086e-06, 1.2444455506965824e-05, 1.5111124525901687e-05, 1.866668327465959e-05]\n"
     ]
    }
   ],
   "source": [
    "print (time_analysis_cut_rodBU(8))"
   ]
  },
  {
   "cell_type": "markdown",
   "metadata": {},
   "source": [
    "<h3> cortes que se deben realizar para Implementación abajo hacia arriba (bottom-up) con memorización</h3>"
   ]
  },
  {
   "cell_type": "code",
   "execution_count": 103,
   "metadata": {
    "collapsed": true
   },
   "outputs": [],
   "source": [
    "def mostrar_secuencia(lista,n,contador):\n",
    "    aux=lista[n-1]\n",
    "    aux2=[]\n",
    "    if(0 in aux):\n",
    "        return aux;\n",
    "    else:\n",
    "        aux2.insert(contador,mostrar_secuencia(lista,int(aux[0]),contador))\n",
    "        contador=contador+1\n",
    "        aux2.insert(contador,mostrar_secuencia(lista,int(aux[1]),contador))\n",
    "        \n",
    "        posva=0\n",
    "        listaF=[]\n",
    "        for i in range(0,len(aux2)):\n",
    "            for j in range(0,2):\n",
    "                if(aux2[i][j]!=0):\n",
    "                    listaF.insert(posva,int(aux2[i][j]))\n",
    "                    posva=posva+1\n",
    "        \n",
    "    return listaF\n",
    "\n",
    "def memo_cut_rodBU(p,n):\n",
    "    r = [0] * (n+1)\n",
    "    r[0] = 0\n",
    "    lista=[]\n",
    "    \n",
    "    for j in range(1,n+1):\n",
    "        auxiliar1=0\n",
    "        auxiliar2=0\n",
    "        aux=np.zeros(2)\n",
    "        q = float('-inf')\n",
    "        for i in range(1,j+1): \n",
    "            if(q<p[i-1]+r[j-i]):\n",
    "                auxiliar1=i\n",
    "                auxiliar2=j-i\n",
    "            \n",
    "            \n",
    "            q = max(q, p[i-1]+r[j-i])\n",
    "            \n",
    "            \n",
    "        r[j] = q\n",
    "        aux[0]=int(auxiliar1)\n",
    "        aux[1]=int(auxiliar2)\n",
    "        \n",
    "        lista.insert(j,aux)\n",
    "    aux3=mostrar_secuencia(lista,n,0);\n",
    "    print(aux3)\n",
    "    \n",
    "    return r[n]"
   ]
  },
  {
   "cell_type": "code",
   "execution_count": 105,
   "metadata": {
    "collapsed": false
   },
   "outputs": [
    {
     "name": "stdout",
     "output_type": "stream",
     "text": [
      "[2, 6]\n",
      "22\n"
     ]
    }
   ],
   "source": [
    "sol = memo_cut_rodBU(p,8)\n",
    "print (sol)"
   ]
  },
  {
   "cell_type": "markdown",
   "metadata": {},
   "source": [
    "<h4> Análisis del tiempo</h4>"
   ]
  },
  {
   "cell_type": "code",
   "execution_count": 131,
   "metadata": {
    "collapsed": false
   },
   "outputs": [
    {
     "data": {
      "text/plain": [
       "[<matplotlib.lines.Line2D at 0x17775a04f98>]"
      ]
     },
     "execution_count": 131,
     "metadata": {},
     "output_type": "execute_result"
    },
    {
     "data": {
      "image/png": "[encoded data removed]",
      "text/plain": [
       "<matplotlib.figure.Figure at 0x1777596f898>"
      ]
     },
     "metadata": {},
     "output_type": "display_data"
    }
   ],
   "source": [
    "pl.clf()\n",
    "x = np.arange(8)\n",
    "y = np.array(time_analysis_cut_rodR(8))  #primer algoritmo\n",
    "pl.plot(x, y, 'k.',color='blue')\n",
    "x = np.arange(8)\n",
    "y = np.array(time_analysis_cut_rodTD(8)) #Top down\n",
    "pl.plot(x, y, 'k.',color='red')\n",
    "x = np.arange(8)\n",
    "y = np.array(time_analysis_cut_rodBU(8)) #B Up\n",
    "pl.plot(x, y, 'k.',color='green')"
   ]
  },
  {
   "cell_type": "markdown",
   "metadata": {},
   "source": [
    "<h1>3. Distancia de edición entre dos cadenas.</h1>\n",
    "<p> se uso el algoritmo de distancia de Levenshtein</p>"
   ]
  },
  {
   "cell_type": "code",
   "execution_count": 78,
   "metadata": {
    "collapsed": false
   },
   "outputs": [],
   "source": [
    "def distance_Levenshtein(cadena1, cadena2):\n",
    "    d=np.zeros((len(cadena1),len(cadena2)))\n",
    "    costo=0\n",
    "    for i in range(len(cadena1)):\n",
    "        d[i][0]=i\n",
    "       \n",
    "    for i in range(len(cadena2)):\n",
    "        d[0][i] = i\n",
    "    \n",
    "    for i in range(1, len(cadena1)):\n",
    "        for j in range(1, len(cadena2)):\n",
    "            if(not cadena1[i-1] == cadena2[j-1]):\n",
    "                costo=1\n",
    "            else:\n",
    "                costo=0\n",
    "            d[i][j] = min(d[i][j-1]+1, d[i-1][j]+1, d[i-1][j-1]+costo)\n",
    "   \n",
    "    return d[len(cadena1)-1][len(cadena2)-1]"
   ]
  },
  {
   "cell_type": "code",
   "execution_count": 79,
   "metadata": {
    "collapsed": false
   },
   "outputs": [
    {
     "name": "stdout",
     "output_type": "stream",
     "text": [
      "1.0\n"
     ]
    }
   ],
   "source": [
    "print distance_Levenshtein(\"distancia\",\"distrancia\")"
   ]
  },
  {
   "cell_type": "markdown",
   "metadata": {
    "collapsed": true
   },
   "source": [
    "<h1>4. Problema del rio </h1>"
   ]
  },
  {
   "cell_type": "code",
   "execution_count": 17,
   "metadata": {
    "collapsed": false
   },
   "outputs": [],
   "source": [
    "def minimo(c,i,j,tarifa,nPuertos):\n",
    "    k=0\n",
    "    aux=j\n",
    "    for k in range(i+1,nPuertos):\n",
    "        #print(\"en aux: \",aux)\n",
    "        #print(tarifa[i,k])\n",
    "        aux=min(aux,tarifa[i,k]+c[k][j])\n",
    "    return aux\n",
    "\n",
    "\n",
    "def costos(nPuertos,tarifa):\n",
    "    c=np.zeros((nPuertos,nPuertos))\n",
    "    diagonal= nPuertos\n",
    "    for diagonal in range (1, nPuertos-1):\n",
    "        for i in range(1,nPuertos-diagonal):\n",
    "            num=int(i+diagonal);\n",
    "            #print (num)\n",
    "            c[i][num]= minimo(c,i,i+diagonal,tarifa,nPuertos)\n",
    "            #print(c[i][num])\n",
    "    return c"
   ]
  },
  {
   "cell_type": "code",
   "execution_count": 19,
   "metadata": {
    "collapsed": false
   },
   "outputs": [
    {
     "name": "stdout",
     "output_type": "stream",
     "text": [
      "[[ 0  5  6  3 15]\n",
      " [ 0  0  5  6  7]\n",
      " [ 0  0  0 10 15]\n",
      " [ 0  0  0  0 12]\n",
      " [ 0  0  0  0  0]]\n",
      "[[ 0.  0.  0.  0.  0.]\n",
      " [ 0.  0.  2.  3.  4.]\n",
      " [ 0.  0.  0.  3.  4.]\n",
      " [ 0.  0.  0.  0.  4.]\n",
      " [ 0.  0.  0.  0.  0.]]\n"
     ]
    }
   ],
   "source": [
    "tarifa= np.matrix('0 5 6 3 15;0 0 5 6 7;0 0 0 10 15;0 0 0 0 12; 0 0 0 0 0 ')\n",
    "print (tarifa)\n",
    "c=costos(5,tarifa)\n",
    "print (c)"
   ]
  },
  {
   "cell_type": "code",
   "execution_count": null,
   "metadata": {
    "collapsed": true
   },
   "outputs": [],
   "source": []
  }
 ],
 "metadata": {
  "anaconda-cloud": {},
  "kernelspec": {
   "display_name": "Python [conda root]",
   "language": "python",
   "name": "conda-root-py"
  },
  "language_info": {
   "codemirror_mode": {
    "name": "ipython",
    "version": 3
   },
   "file_extension": ".py",
   "mimetype": "text/x-python",
   "name": "python",
   "nbconvert_exporter": "python",
   "pygments_lexer": "ipython3",
   "version": "3.5.2"
  }
 },
 "nbformat": 4,
 "nbformat_minor": 1
}
