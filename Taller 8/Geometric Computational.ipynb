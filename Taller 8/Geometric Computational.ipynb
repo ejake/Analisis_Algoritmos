{
 "cells": [
  {
   "cell_type": "markdown",
   "metadata": {},
   "source": [
    "<h1>Geometrical algorithms</h1>"
   ]
  },
  {
   "cell_type": "markdown",
   "metadata": {},
   "source": [
    "<h1> Basics </h1>\n",
    "\n",
    "<ul>\n",
    "\n",
    "<li>Point: $(x,y)$</li>\n",
    "\n",
    "<li>Line: $ax + b =y$</li>\n",
    "\n",
    "<li>Line segment: Two points</li>\n",
    "\n",
    "<li>Polygon: Sequence of points.</li>\n",
    "</ul>"
   ]
  },
  {
   "cell_type": "markdown",
   "metadata": {},
   "source": [
    "<h2> Points and Line Segments</h2>"
   ]
  },
  {
   "cell_type": "markdown",
   "metadata": {},
   "source": [
    "What is the length of a line segment $S_i$?"
   ]
  },
  {
   "cell_type": "code",
   "execution_count": 1,
   "metadata": {
    "collapsed": true
   },
   "outputs": [],
   "source": [
    "import numpy as np\n",
    "import math\n",
    "%matplotlib inline\n",
    "from matplotlib import pyplot as plt\n",
    "from matplotlib.path import Path\n",
    "from matplotlib.patches import PathPatch"
   ]
  },
  {
   "cell_type": "code",
   "execution_count": 21,
   "metadata": {
    "collapsed": false
   },
   "outputs": [
    {
     "name": "stdout",
     "output_type": "stream",
     "text": [
      "Length(P1,P2) =  5.0\n"
     ]
    }
   ],
   "source": [
    "def length_segment(p1,p2):\n",
    "    return ((p2[0]-p1[0])**2+(p2[1]-p1[1])**2)**.5\n",
    "\n",
    "P1 = [0.,0.]\n",
    "P2 = [3.,4.]\n",
    "print ('Length(P1,P2) = ', length_segment(P1, P2))\n",
    "#np.linalg.norm([P1, P2])"
   ]
  },
  {
   "cell_type": "markdown",
   "metadata": {},
   "source": [
    "What is the midpoint of a line segment $S_i$?"
   ]
  },
  {
   "cell_type": "code",
   "execution_count": 22,
   "metadata": {
    "collapsed": false
   },
   "outputs": [
    {
     "name": "stdout",
     "output_type": "stream",
     "text": [
      "Length(P1,P2) =  [0.5, 2.0]\n"
     ]
    }
   ],
   "source": [
    "def midpoint_segment(p1,p2):\n",
    "    return [(p1[0]+p2[0])/2, (p1[1]+p2[1])/2]\n",
    "\n",
    "P3 = [2.,-1.]\n",
    "P4 = [-1.,5.]\n",
    "print ('Length(P1,P2) = ', midpoint_segment(P3, P4))"
   ]
  },
  {
   "cell_type": "markdown",
   "metadata": {},
   "source": [
    "What is the intersection between two line segments $S_i$ and $S_j$?"
   ]
  },
  {
   "cell_type": "code",
   "execution_count": 6,
   "metadata": {
    "collapsed": false
   },
   "outputs": [
    {
     "name": "stdout",
     "output_type": "stream",
     "text": [
      "y: 1.5999999999999996\n",
      "si\n",
      "interseccion en el punto  1.6 , 1.6\n"
     ]
    }
   ],
   "source": [
    "def interseccion(p1,p2,p3,p4):\n",
    "    m1=(p2[1]-p1[1])/(p2[0]-p1[0])\n",
    "    m2=(p4[1]-p3[1])/(p4[0]-p3[0])\n",
    "    b1=p1[1]-(m1*p1[0])\n",
    "    b2=p3[1]-(m2*p3[0])\n",
    "    if(m1-m2!=0):\n",
    "        x=(b2-b1)/(m1-m2)\n",
    "        y=(m1*x)+b1\n",
    "        print(\"y:\",y)\n",
    "        if(y<p3[1] and y>p4[1] and y<p2[1] and y>p1[1]):\n",
    "            if(x>p1[0] and x<p2[0] and x>p3[0] and x<p4[0]):\n",
    "                print (\"si\")\n",
    "                print(\"interseccion en el punto \",x,\",\",round(y,2))\n",
    "        if(y>p3[1] and y<p4[1] and y>p2[1] and y<p1[1]):\n",
    "            if(x>p1[0] and x<p2[0] and x>p3[0] and x<p4[0]):\n",
    "                print (\"si\")\n",
    "                print(\"interseccion en el punto \",x,\",\",round(y,2))\n",
    "    else:\n",
    "        print(\"no se intersectan\")\n",
    "    \n",
    "    \n",
    "p3=[0,0]\n",
    "p4=[3,3]\n",
    "p1=[1,4]\n",
    "p2=[2,0]\n",
    "\n",
    "interseccion(p1,p2,p3,p4)"
   ]
  },
  {
   "cell_type": "markdown",
   "metadata": {},
   "source": [
    "Is a given point $P$ contained in the line segment $S$?"
   ]
  },
  {
   "cell_type": "code",
   "execution_count": 7,
   "metadata": {
    "collapsed": false
   },
   "outputs": [
    {
     "name": "stdout",
     "output_type": "stream",
     "text": [
      "el punto:  [1, 1]  SI esta contenido en el Segmento\n"
     ]
    }
   ],
   "source": [
    "def contenido(p1,p2,p3):\n",
    "    m1=(p2[1]-p1[1])/(p2[0]-p1[0])\n",
    "    m2=(p2[1]-p3[1])/(p2[0]-p3[0])\n",
    "    if(m1==m2):\n",
    "        if(p3[1]<=p2[1] and p3[1]>=p1[1]):\n",
    "            if(p3[0]>=p1[0] and p3[0]<=p2[0]):\n",
    "                print(\"el punto: \", p3,\" SI esta contenido en el Segmento\")\n",
    "            else:\n",
    "                print(\"el punto no esta contenido\")\n",
    "        else:\n",
    "            print(\"el punto no esta contenido\")\n",
    "    else:\n",
    "        print(\"el punto no esta contenido\")\n",
    "                \n",
    "    \n",
    "p4=[1,1]\n",
    "p1=[0,0]\n",
    "p2=[2,2]\n",
    "\n",
    "contenido(p1,p2,p4)"
   ]
  },
  {
   "cell_type": "markdown",
   "metadata": {},
   "source": [
    "CCW. Given three points a, b, and c, are the segments $\\bar{ab}$, $\\bar{bc}$ a counterclockwise turn?"
   ]
  },
  {
   "cell_type": "markdown",
   "metadata": {},
   "source": [
    "<h3>Cross product</h3>\n",
    "\n",
    "Consider vectors $p_1$ and $p_2$, cross product can be interpreted as the area of the parallelogram formed by the points $(0,0)$, $p_1$, $p_2$, and $p_1 + p_2$. An equivalent defintion of cross product is a determinant:\n",
    "\n",
    "\\begin{align}\n",
    "p_1 \\times p2 & = &det(\\begin{matrix}x_1 & x_2\\\\ y_1 & y_2\\end{matrix})\\\\\n",
    "  & = &x_1y_2 - x_2y_1\\\\\n",
    "  & = &-p_2\\times p_1\n",
    "\\end{align}\n",
    "\n",
    "<ul>\n",
    "<li>If $p_1\\times p_2 > 0$, then $ p_1$ is clockwise from $p_2$ respect to the origin $(0,0)$</li>\n",
    "<li>If $p_1\\times p_2 < 0$, then $ p_1$ is counterclockwise from $p_2$ respect to the origin $(0,0)$</li>\n",
    "<li>If $p_1\\times p_2 = 0$, then $ p_1$ and $p_2$ are colinear</li>\n",
    "</ul>\n",
    "\n",
    "To determine if a directed segment $\\bar{p_0p_1}$ is closer to a directed segment $\\bar{p_0p2}$ in a clockwise direction we use $p_0$ as the origin. i.e. $p_1-p_0$, $p_2-p_0$, hence the cross product can be computed as\n",
    "\n",
    "$$ (p_1 - p_0) \\times (p_2 - p_0) = (x_1-x_0)(y_1-y0) \\times (x_2-x_0)(y_2-y0)$$\n",
    "\n",
    "To determine whether two consecutive line segments $\\bar{p_0 p_1}$ and $\\bar{p_1 p_2}$ turn counterclockwise at point $p_1$ or not, we simply check whether directed segment $\\bar{p_0 p_2}$ is clockwise or counterclockwise relative to directed segment $\\bar{p_0 p_1}$. To do so, we compute the cross product $\\bar{p_2 p_0} \\times \\bar{p_1 p_0}$. If the sign of this cross product is negative, then $\\bar{p_0p_2}$ is counterclockwise with respect to $\\bar{p_0 p_1}$ and thus we make a left turn at $p_1$. A positive cross product indicates a clockwise orientation and a right turn. A cross product of $0$ means that points $p_0$ , $p_1$ , and $p_2$ are colinear.\n"
   ]
  },
  {
   "cell_type": "code",
   "execution_count": 8,
   "metadata": {
    "collapsed": true
   },
   "outputs": [],
   "source": [
    "def ccw2(p0, p1, p2):\n",
    "    area = (p2[0]-p0[0])*(p1[1]-p0[1]) - (p1[0]-p0[0])*(p2[1]-p0[1])\n",
    "    if area < 0: return -1 #counterclockwise\n",
    "    elif area > 0: return 1 #clockwise\n",
    "    elif area == 0:  return  0 #collinear"
   ]
  },
  {
   "cell_type": "code",
   "execution_count": 23,
   "metadata": {
    "collapsed": false
   },
   "outputs": [
    {
     "name": "stdout",
     "output_type": "stream",
     "text": [
      "-1 1 0\n"
     ]
    }
   ],
   "source": [
    "P1 = [0.,0.]\n",
    "P2 = [3.,4.]\n",
    "P3 = [2.,-1.]\n",
    "P4 = [-1.,5.]\n",
    "print (ccw2(P1,P2,P4), ccw2(P1,P2,P3), ccw2([0,0],[1,1],[2,2]))"
   ]
  },
  {
   "cell_type": "code",
   "execution_count": 10,
   "metadata": {
    "collapsed": false
   },
   "outputs": [],
   "source": [
    "def ccw(p0, p1, p2):\n",
    "    area = (p1[0]-p0[0])*(p2[1]-p0[1]) - (p1[1]-p0[1])*(p2[0]-p0[0])\n",
    "    if area < 0: return -1 #clockwise\n",
    "    elif area > 0: return 1 #counterclockwise\n",
    "    elif area == 0:  return  0 #collinear"
   ]
  },
  {
   "cell_type": "code",
   "execution_count": 24,
   "metadata": {
    "collapsed": false
   },
   "outputs": [
    {
     "name": "stdout",
     "output_type": "stream",
     "text": [
      "1 -1 0\n"
     ]
    }
   ],
   "source": [
    "P1 = [0.,0.]\n",
    "P2 = [3.,4.]\n",
    "P3 = [2.,-1.]\n",
    "P4 = [-1.,5.]\n",
    "print (ccw(P1,P2,P4), ccw(P1,P2,P3), ccw([0,0],[1,1],[2,2]))"
   ]
  },
  {
   "cell_type": "code",
   "execution_count": 25,
   "metadata": {
    "collapsed": false
   },
   "outputs": [
    {
     "name": "stdout",
     "output_type": "stream",
     "text": [
      "[0.0, 0.0] [3.0, 4.0]\n",
      "(30,)\n",
      "(40,)\n"
     ]
    }
   ],
   "source": [
    "print (P1,P2)\n",
    "print (np.arange(P1[0],P2[0],.1).shape)\n",
    "print (np.arange(P1[1],P2[1],.1).shape)"
   ]
  },
  {
   "cell_type": "code",
   "execution_count": 26,
   "metadata": {
    "collapsed": false
   },
   "outputs": [
    {
     "data": {
      "text/plain": [
       "(-2.0, 6)"
      ]
     },
     "execution_count": 26,
     "metadata": {},
     "output_type": "execute_result"
    },
    {
     "data": {
      "image/png": "[encoded data removed]",
      "text/plain": [
       "<matplotlib.figure.Figure at 0x2853b3045f8>"
      ]
     },
     "metadata": {},
     "output_type": "display_data"
    }
   ],
   "source": [
    "fig, ax = plt.subplots(figsize=(8, 8))\n",
    "plt.plot(P1[0],P1[1],'ro')\n",
    "plt.plot(P2[0],P2[1],'bo')\n",
    "plt.plot(P3[0],P3[1],'mo')\n",
    "plt.plot(P4[0],P4[1],'go')\n",
    "plt.xlim(-2., 6)\n",
    "plt.ylim(-2., 6)"
   ]
  },
  {
   "cell_type": "code",
   "execution_count": 28,
   "metadata": {
    "collapsed": true
   },
   "outputs": [],
   "source": [
    "from sympy.geometry import *"
   ]
  },
  {
   "cell_type": "code",
   "execution_count": 29,
   "metadata": {
    "collapsed": false
   },
   "outputs": [],
   "source": [
    "P1 = Point(0, 0)\n",
    "P2 = Point(3, 4)\n",
    "P3 = Point(2, -1)\n",
    "P4 = Point(-1, 5)\n",
    "S1 = Segment(P1, P2)\n",
    "S2 = Segment(P3, P4)"
   ]
  },
  {
   "cell_type": "code",
   "execution_count": 31,
   "metadata": {
    "collapsed": false
   },
   "outputs": [
    {
     "name": "stdout",
     "output_type": "stream",
     "text": [
      "False\n",
      "5\n",
      "Point2D(1/2, 2)\n",
      "4/3\n",
      "[Point2D(9/10, 6/5)]\n",
      "acos(-sqrt(5)/5)\n",
      "False\n"
     ]
    }
   ],
   "source": [
    "print (Point.is_collinear(P1, P2, P3))\n",
    "print (S1.length)\n",
    "print (S2.midpoint)\n",
    "print (S1.slope)\n",
    "print (S1.intersection(S2))\n",
    "print (Segment.angle_between(S1, S2))\n",
    "print (S1.contains(P3))"
   ]
  },
  {
   "cell_type": "markdown",
   "metadata": {},
   "source": [
    "<h2>Lines</h2>"
   ]
  },
  {
   "cell_type": "markdown",
   "metadata": {},
   "source": [
    "What is the distance from a point $P$ to the line $L$?"
   ]
  },
  {
   "cell_type": "code",
   "execution_count": 32,
   "metadata": {
    "collapsed": false
   },
   "outputs": [
    {
     "data": {
      "text/plain": [
       "3*sqrt(2)/2"
      ]
     },
     "execution_count": 32,
     "metadata": {},
     "output_type": "execute_result"
    }
   ],
   "source": [
    "p1=[0,0]\n",
    "p2=[5,5]\n",
    "p3=[6,9]\n",
    "L=Line(p1,p2)\n",
    "\n",
    "L.distance(p3)"
   ]
  },
  {
   "cell_type": "markdown",
   "metadata": {},
   "source": [
    "What is an ortogonal line $L_i$ which intersect $L_j$ at an arbitrary point?"
   ]
  },
  {
   "cell_type": "code",
   "execution_count": 52,
   "metadata": {
    "collapsed": false
   },
   "outputs": [
    {
     "name": "stdout",
     "output_type": "stream",
     "text": [
      "Line(Point2D(2, -1), Point2D(6, -4))\n"
     ]
    }
   ],
   "source": [
    "# tomado de: http://stackoverflow.com/questions/16890711/normalise-and-perpendicular-function-in-python\n",
    "import math\n",
    "class Coord(object):\n",
    "    def __init__(self,x,y):\n",
    "        self.x = x\n",
    "        self.y = y\n",
    "\n",
    "    def __sub__(self,other):\n",
    "        # This allows you to substract vectors\n",
    "        return Coord(self.x-other.x,self.y-other.y)\n",
    "\n",
    "    def __repr__(self):\n",
    "        # Used to get human readable coordinates when printing\n",
    "        return \"Coord(%f,%f)\"%(self.x,self.y)\n",
    "\n",
    "    def length(self):\n",
    "        # Returns the length of the vector\n",
    "        return math.sqrt(self.x**2 + self.y**2)\n",
    "\n",
    "    def angle(self):\n",
    "        # Returns the vector's angle\n",
    "        return math.atan2(self.y,self.x)\n",
    "\n",
    "def normalize(coord):\n",
    "    return Coord(\n",
    "        coord.x/coord.length(),\n",
    "        coord.y/coord.length()\n",
    "        )\n",
    "\n",
    "def perpendicular(coord):\n",
    "    # Shifts the angle by pi/2 and calculate the coordinates\n",
    "    # using the original vector length\n",
    "    return Coord(\n",
    "        coord.length()*math.cos(coord.angle()+math.pi/2),\n",
    "        coord.length()*math.sin(coord.angle()+math.pi/2)\n",
    "        )\n",
    "\n",
    "a = Coord(2,6)\n",
    "b = Coord(4,12)\n",
    "print (perpendicular(normalize(a-b)))"
   ]
  },
  {
   "cell_type": "markdown",
   "metadata": {},
   "source": [
    "What is a line $L_i$ parallel to $L_j$ with a distance $d$?"
   ]
  },
  {
   "cell_type": "code",
   "execution_count": 53,
   "metadata": {
    "collapsed": false
   },
   "outputs": [
    {
     "name": "stdout",
     "output_type": "stream",
     "text": [
      "False\n"
     ]
    }
   ],
   "source": [
    "print (L1.is_parallel(S2))"
   ]
  },
  {
   "cell_type": "code",
   "execution_count": 38,
   "metadata": {
    "collapsed": false
   },
   "outputs": [
    {
     "name": "stdout",
     "output_type": "stream",
     "text": [
      "Point2D(4*t + 2, -3*t - 1)\n",
      "3*x + 4*y - 2\n",
      "False\n",
      "3\n",
      "False\n"
     ]
    }
   ],
   "source": [
    "L1 = Line(P1, P2)\n",
    "L2 = L1.perpendicular_line(P3)        # perpendicular line to L1\n",
    "print (L2.arbitrary_point())            # parametric equation of L2\n",
    "print (L2.equation())                   # algebraic equation of L2\n",
    "print (L2.contains(P4))                 # is P4 in L2?\n",
    "print (L2.distance(P4) )                # distance from P4 to L2\n",
    "print (L1.is_parallel(S2))              # is S2 parallel to L1?\n"
   ]
  },
  {
   "cell_type": "markdown",
   "metadata": {
    "collapsed": false
   },
   "source": [
    "<h2>Polygons</h2>\n",
    "\n",
    "Jordan curve theorem (Veblen, 1905): Any continous simple closed curve cuts the plane in exactly two pieces: the inside and the outside."
   ]
  },
  {
   "cell_type": "markdown",
   "metadata": {},
   "source": [
    "Activities:\n",
    "1. Draw polygons.\n",
    "2. Is a point inside a polygon?"
   ]
  },
  {
   "cell_type": "markdown",
   "metadata": {
    "collapsed": true
   },
   "source": [
    "<h1>Convex Hull</h1>"
   ]
  },
  {
   "cell_type": "code",
   "execution_count": 16,
   "metadata": {
    "collapsed": false
   },
   "outputs": [
    {
     "data": {
      "image/png": "[encoded data removed]",
      "text/plain": [
       "<matplotlib.figure.Figure at 0x2853b2dc908>"
      ]
     },
     "metadata": {},
     "output_type": "display_data"
    }
   ],
   "source": [
    "import numpy as np\n",
    "\n",
    "import matplotlib.pyplot as plt\n",
    "import matplotlib\n",
    "from matplotlib.patches import Polygon\n",
    "from matplotlib.collections import PatchCollection\n",
    "\n",
    "fig, ax = plt.subplots()\n",
    "patches = []\n",
    "\n",
    "polygon = Polygon([[0.1,0.9],[0.1,0.3],[0.3,0.4],[0.3,0.5]], True)\n",
    "patches.append(polygon)\n",
    "polygon = Polygon([[0.5,0.1],[0.5,0.3],[0.52,0.3],[0.54,0.4],[0.3,0.4]], True)\n",
    "patches.append(polygon)\n",
    "polygon = Polygon([[0.5,0.6],[0.5,0.7],[0.7,0.8],[0.66,0.5],[0.8,0.4],[0.65,0.4],[0.6,0.2]], True)\n",
    "patches.append(polygon)\n",
    "\n",
    "p = PatchCollection(patches, cmap=matplotlib.cm.jet, alpha=0.4)\n",
    "\n",
    "colors = 100*np.random.rand(len(patches))\n",
    "p.set_array(np.array(colors))\n",
    "\n",
    "ax.add_collection(p)\n",
    "\n",
    "plt.show()"
   ]
  },
  {
   "cell_type": "markdown",
   "metadata": {
    "slideshow": {
     "slide_type": "slide"
    }
   },
   "source": [
    "A set of points $P\\subseteq Q$ is convex hull if for any two points $p_0$ and $q_0 \\in Q$ in the set, the line segment $\\overline{p_0p_1}$ is completely in the polygon defined by $P$. We implicitly assume that all points in the set $Q$ are unique and that $Q$ contains at least three points which are not colinear."
   ]
  },
  {
   "cell_type": "markdown",
   "metadata": {
    "slideshow": {
     "slide_type": "slide"
    }
   },
   "source": [
    "<b>The mechanical approach:</b> Using a rubber band around the points"
   ]
  },
  {
   "cell_type": "markdown",
   "metadata": {},
   "source": [
    "<h2>A naïve approach</h2>\n",
    "\n",
    "Hit 1: Edges of convex hull of $Q$ connect pairs of points in $Q$.\n",
    "\n",
    "Hit 2: $p_i,p_j$ is on convex hull if all other points are counterclockwise of $\\overline{p_ip_j}$\n",
    "\n",
    "$\\forall \\: p_i, p_j \\in Q: p_i \\neq p_j$\n",
    "1. Compute ccw2($p_i$, $p_j$, $p_k$) $\\forall \\: p_k \\in Q$, $p_k \\neq p_i$\n",
    "2. $p_i$, $p_j$ is on $P$ if all values in step 1. are negative"
   ]
  },
  {
   "cell_type": "markdown",
   "metadata": {},
   "source": [
    "Analysis:"
   ]
  },
  {
   "cell_type": "code",
   "execution_count": 17,
   "metadata": {
    "collapsed": true
   },
   "outputs": [],
   "source": [
    "# Q: Matrix n x 2 (n points)\n",
    "def convexhull_bf(Q):\n",
    "    P = []\n",
    "    for i in range(len(Q)):\n",
    "        for j in range(len(Q)):\n",
    "            if i == j:\n",
    "                continue\n",
    "            ij_P = True\n",
    "            for k in range(len(Q)):\n",
    "                if i== k or j == k :\n",
    "                    continue\n",
    "                #print Q[i],Q[j],Q[k], ccw2(Q[i],Q[j],Q[k])\n",
    "                if not(ccw2(Q[i],Q[j],Q[k])<0):\n",
    "                    ij_P = False\n",
    "                    break\n",
    "            if ij_P:\n",
    "                P.append(Q[i])\n",
    "                P.append(Q[j])\n",
    "    return P"
   ]
  },
  {
   "cell_type": "code",
   "execution_count": 39,
   "metadata": {
    "collapsed": false
   },
   "outputs": [
    {
     "name": "stdout",
     "output_type": "stream",
     "text": [
      "[[0.5, 0.6], [0.6, 0.2], [0.5, 0.7], [0.5, 0.6], [0.7, 0.8], [0.5, 0.7], [0.8, 0.4], [0.7, 0.8], [0.6, 0.2], [0.8, 0.4]]\n"
     ]
    }
   ],
   "source": [
    "print (convexhull_bf([[0.5,0.6],[0.5,0.7],[0.7,0.8],[0.66,0.5],[0.8,0.4],[0.65,0.4],[0.6,0.2]]))"
   ]
  },
  {
   "cell_type": "code",
   "execution_count": 40,
   "metadata": {
    "collapsed": false
   },
   "outputs": [
    {
     "name": "stdout",
     "output_type": "stream",
     "text": [
      "[[0.1, 0.9], [0.1, 0.3], [0.1, 0.3], [0.3, 0.4], [0.3, 0.4], [0.3, 0.5], [0.3, 0.5], [0.1, 0.9]]\n"
     ]
    }
   ],
   "source": [
    "print (convexhull_bf([[0.1,0.9],[0.1,0.3],[0.3,0.4],[0.3,0.5]]))"
   ]
  },
  {
   "cell_type": "markdown",
   "metadata": {},
   "source": [
    "<h2>Graham Scan</h2>"
   ]
  },
  {
   "cell_type": "markdown",
   "metadata": {
    "collapsed": true
   },
   "source": [
    "<ul>\n",
    "<li>Choose point p with smallest y-coordinate.</li>\n",
    "<li>Sort points by polar angle with p to get simple polygon.</li>\n",
    "<li>Consider points in order, and discard those that would create a clockwise turn.</li>\n",
    "</ul>"
   ]
  },
  {
   "cell_type": "markdown",
   "metadata": {
    "collapsed": true
   },
   "source": [
    "<h3>Implementation</h3>\n",
    "\n",
    "GRAHAM-SCAN(Q)\n",
    "1. let $p_0$ be the point in $Q$ with the minimum $y$-coordinate, or the leftmost such point in case of a tie\n",
    "2. let $\\langle p_1, p_2, \\ldots, p_m\\rangle$ be the remaining points in $Q$, sorted by polar angle in counterclockwise order around $p_0$ (if more than one point has the same angle, remove all but the one that is farthest from $p_0$ )\n",
    "3. let $S$ be an empty stack\n",
    "4. PUSH($p_0$,$S$)\n",
    "5. PUSH($p_1$,$S$)\n",
    "6. PUSH($p_2$,$S$)\n",
    "7. for $i = 3$ to $m$\n",
    "8. &nbsp;&nbsp;&nbsp;     while the angle formed by points NEXT-TO-TOP($S$), TOP(S), and $p_i$ makes a nonleft turn\n",
    "9. &nbsp;&nbsp;&nbsp;&nbsp;&nbsp;&nbsp; POP(S)\n",
    "10. PUSH($p_i$,$S$)\n",
    "11. return $S$\n"
   ]
  },
  {
   "cell_type": "markdown",
   "metadata": {},
   "source": [
    "<h3>Analysis</h3>"
   ]
  },
  {
   "cell_type": "code",
   "execution_count": null,
   "metadata": {
    "collapsed": true
   },
   "outputs": [],
   "source": [
    "COUNTERCLOCKWISE, CLOCKWISE, COLINEAR = (1, -1, 0)\n",
    "\n",
    "def _keep_left(hull, r):\n",
    "    while len(hull) > 1 and ccw(hull[-2], hull[-1], r) != COUNTERCLOCKWISE:\n",
    "            hull.pop()\n",
    "    if not len(hull) or hull[-1] != r:\n",
    "        hull.append(r)\n",
    "    return hull\n",
    "\n",
    "def convex_hull(points):\n",
    "    \"\"\"Returns points on convex hull of an array of points in CCW order.\"\"\"\n",
    "    points = sorted(points)\n",
    "    # Function reduce takes starting value ([]) and first elements of array \"points\" and passes to function\n",
    "    #_keep_left. Then it takes result of function _take_left and passes it again to the function _take_left\n",
    "    # with the next element of array \"points\" and so on.\n",
    "\n",
    "    l = reduce(_keep_left, points, [])\n",
    "    u = reduce(_keep_left, reversed(points), [])\n",
    "    # Extend l (lower hull) with all elements of u(upper hull) excluding its first and last elements\n",
    "    # it reads from left to right, if first element is true it returns it\n",
    "    return l.extend(u[i] for i in xrange(1, len(u) - 1)) or l\n"
   ]
  },
  {
   "cell_type": "code",
   "execution_count": null,
   "metadata": {
    "collapsed": false
   },
   "outputs": [],
   "source": [
    "n = 100\n",
    "x_coord = np.random.random([n])\n",
    "y_coord = np.random.random([n])\n",
    "# Make pairs\n",
    "points = zip(x_coord,y_coord)\n",
    "\n",
    "ch = (convex_hull(points))\n",
    "# Divide list into separate tuples\n",
    "ch_unzip= zip(*ch)\n",
    "\n",
    "# Add a single element into tuple\n",
    "ch_unzip[0]= ch_unzip[0] + (ch_unzip[0][0],)\n",
    "ch_unzip[1]= ch_unzip[1]+ (ch_unzip[1][0],)\n",
    "\n",
    "# Plot points and convex hull\n",
    "plt.plot(x_coord, y_coord,'go')\n",
    "plt.plot(ch_unzip[0],ch_unzip[1],'r')\n",
    "plt.axis([-0.5, 1.5, -0.5, 1.5])\n",
    "plt.show()"
   ]
  },
  {
   "cell_type": "code",
   "execution_count": null,
   "metadata": {
    "collapsed": true
   },
   "outputs": [],
   "source": []
  },
  {
   "cell_type": "markdown",
   "metadata": {
    "collapsed": true
   },
   "source": [
    "<h2>Package wrap or Jarvi's march algorithm</h2>\n",
    "\n",
    "\n",
    "<ul>\n",
    "<li>Start with point with smallest y-coordinate.</li>\n",
    "<li>Rotate sweep line around current point in ccw direction.</li>\n",
    "<li>First point hit is on the hull.</li>\n",
    "<li>Repeat.</li>\n",
    "</ul>\n",
    "\n",
    "\n",
    "<h3>Implementation</h3>\n",
    "\n",
    "<ul>\n",
    "<li>Compute angle between current point and all remaining points.</li>\n",
    "<li>Pick smallest angle larger than current angle.</li>\n",
    "<li> $\\Theta(n)$ per iteration.</li>\n",
    "<ul>"
   ]
  },
  {
   "cell_type": "markdown",
   "metadata": {},
   "source": [
    "<h3>Running Time Analysis</h3>\n",
    "\n",
    "\n"
   ]
  },
  {
   "cell_type": "markdown",
   "metadata": {},
   "source": [
    "<h3>How many points on hull?</h3>\n",
    "\n",
    "<ul>\n",
    "<li>Worst case:  $h = ?$.</li>\n",
    "<li>Average case:  difficult problems in stochastic geometry.\n",
    "<ul>\n",
    "<li>in a disc:  $h = N^{1/3}$.</li>\n",
    "<li>in a convex polygon with $O(1)$ edges:  $h = \\log n$.</li>\n",
    "</ul>\n",
    "</li>\n",
    "</ul>"
   ]
  },
  {
   "cell_type": "code",
   "execution_count": null,
   "metadata": {
    "collapsed": true
   },
   "outputs": [],
   "source": [
    "# Jarvis March O(nh) - Tom Switzer <thomas.switzer@gmail.com>\n",
    " \n",
    "TURN_LEFT, TURN_RIGHT, TURN_NONE = (1, -1, 0)\n",
    " \n",
    "def turn(p, q, r):\n",
    "    \"\"\"Returns -1, 0, 1 if p,q,r forms a right, straight, or left turn.\"\"\"\n",
    "    return cmp((q[0] - p[0])*(r[1] - p[1]) - (r[0] - p[0])*(q[1] - p[1]), 0)\n",
    " \n",
    "def _dist(p, q):\n",
    "    \"\"\"Returns the squared Euclidean distance between p and q.\"\"\"\n",
    "    dx, dy = q[0] - p[0], q[1] - p[1]\n",
    "    return dx * dx + dy * dy\n",
    " \n",
    "def _next_hull_pt(points, p):\n",
    "    \"\"\"Returns the next point on the convex hull in CCW from p.\"\"\"\n",
    "    q = p\n",
    "    for r in points:\n",
    "        t = turn(p, q, r)\n",
    "        if t == TURN_RIGHT or t == TURN_NONE and _dist(p, r) > _dist(p, q):\n",
    "            q = r\n",
    "    return q\n",
    " \n",
    "def convexhull_jarvis_march(points):\n",
    "    \"\"\"Returns the points on the convex hull of points in CCW order.\"\"\"\n",
    "    hull = [min(points)]\n",
    "    for p in hull:\n",
    "        q = _next_hull_pt(points, p)\n",
    "        if q != hull[0]:\n",
    "            hull.append(q)\n",
    "    return hull"
   ]
  },
  {
   "cell_type": "code",
   "execution_count": null,
   "metadata": {
    "collapsed": false
   },
   "outputs": [],
   "source": [
    "n = 100\n",
    "x_coord = np.random.random([n])\n",
    "y_coord = np.random.random([n])\n",
    "# Make pairs\n",
    "points = zip(x_coord,y_coord)\n",
    "\n",
    "ch = (convexhull_jarvis_march(points))\n",
    "# Divide list into separate tuples\n",
    "ch_unzip= zip(*ch)\n",
    "\n",
    "# Add a single element into tuple\n",
    "ch_unzip[0]= ch_unzip[0] + (ch_unzip[0][0],)\n",
    "ch_unzip[1]= ch_unzip[1]+ (ch_unzip[1][0],)\n",
    "\n",
    "# Plot points and convex hull\n",
    "plt.plot(x_coord, y_coord,'bo')\n",
    "plt.plot(ch_unzip[0],ch_unzip[1],'r')\n",
    "plt.axis([-0.5, 1.5, -0.5, 1.5])\n",
    "plt.show()"
   ]
  },
  {
   "cell_type": "markdown",
   "metadata": {},
   "source": [
    "Note: Clustering algorithms might be an interesting and advanced topic to review."
   ]
  },
  {
   "cell_type": "markdown",
   "metadata": {},
   "source": [
    "<h2>Find the closet pair of points</h2>\n",
    "\n",
    "Given a set of euclidean points $Q$ we must find the closet pair of points.\n",
    "\n",
    "\n",
    "<h3>Naive algorithm</h3>\n",
    "\n",
    "Compaire the distance for each pair of point in $Q$"
   ]
  },
  {
   "cell_type": "code",
   "execution_count": null,
   "metadata": {
    "collapsed": true
   },
   "outputs": [],
   "source": [
    "def closetpair_bf(Q):\n",
    "    min_distance = float('Inf')    \n",
    "    min_pair = None\n",
    "    for i in Q:\n",
    "        for j in Q:\n",
    "            if length_segment(p1,p2) < min_distance:\n",
    "                min_pair = [i, j]\n",
    "    return min_pair"
   ]
  },
  {
   "cell_type": "markdown",
   "metadata": {},
   "source": [
    "How can we do it better?\n",
    "\n",
    "<h3>An divide-and-conquer algorithm</h3>\n",
    "\n",
    "[Cormen]\n",
    "<ul>\n",
    "<li>Each recursive invocation of the algorithm takes as input a subset $P \\subseteq Q$ and arrays $X$ and $Y$, each of which contains all the points of the input subset $P$. </li>\n",
    "<li>The points in array $X$ are sorted so that their $x$-coordinates are monotonically increasing. </li>\n",
    "<li>Similarly, array $Y$ is sorted by monotonically increasing $y$-coordinate.</li>\n",
    "<li>If $|P|<3$\n",
    "</ul>\n",
    "\n",
    "<b>Divide:</b> \n",
    "<ul>\n",
    "<li>Find a vertical line $l$ that bisects the point set $P$ into two sets $P_L$ and $P_R$ such that $|PL| = \\lceil|P|/2\\rceil$, $|P_R| = \\lfloor|P|/2\\rfloor$, all points in $P_L$ are on or to the left of line $l$, and all points in $P_R$ are on or to the right of $l$. </li>\n",
    "<li>Divide the array $X$ into arrays $X_L$ and $X_R$ , which contain the points of $P_L$ and $P_R$ respectively, sorted by monotonically increasing $x$-coordinate. </li>\n",
    "<li>Similarly, divide the array $Y$ into arrays $Y_L$ and $Y_R$ , which contain the points of $P_L$ and $P_R$ respectively, sorted by monotonically increasing $y$-coordinate.</li>\n",
    "</ul>\n",
    "\n",
    "<b>Conquer:</b> Having divided $P$ into $P_L$ and $P_R$, make two recursive calls, one to find\n",
    "the closest pair of points in $P_L$ and the other to find the closest pair of points\n",
    "in $P_R$ . The inputs to the first call are the subset $P_L$ and arrays $X_L$ and $Y_L$ ; the\n",
    "second call receives the inputs $P_R$, $X_R$ , and $Y_R$ . Let the closest-pair distances\n",
    "returned for $P_L$ and $P_R$ be $\\delta_L$ and $\\delta_R$, respectively, and let $\\delta = \\min\\{\\delta_L, \\delta_R\\}$.\n",
    "\n",
    "\n",
    "<b>Combine:</b> The closest pair is either the pair with distance $\\delta$ found by one of the recursive calls, or it is a pair of points with one point in $P_L$ and the other in $P_R$. The algorithm determines whether there is a pair with one point in $P_L$ and the other point in $P_R$ and whose distance is less than $\\delta$. Observe that if a pair of\n",
    "points has distance less than $\\delta$, both points of the pair must be within $\\delta$ units\n",
    "of line $l$. To find such a pair, if one exists, we do the following:\n",
    "<ol>\n",
    "<li> Create an array $Y'$ , which is the array $Y$ with all points not in the $2\\delta$-wide vertical strip removed. The array $Y'$ is sorted by $y$-coordinate, just as $Y$ is.</li>\n",
    "<li>. For each point $p$ in the array $Y'$, try to find points in $Y'$ that are within $\\delta$ units of $p$. As we shall see shortly, only the $12$ points in $Y'$ that follow $p$ need be considered. Compute the distance from $p$ to each of these 12 points, and keep track of the closest-pair distance $\\delta'$ found over all pairs of points in $Y'$.\n",
    "<li> If $\\delta' < \\delta$, then the vertical strip does indeed contain a closer pair than the recursive calls found. Return this pair and its distance $\\delta'$ . Otherwise, return the closest pair and its distance $\\delta$ found by the recursive calls.\n",
    "</ol>\n",
    "\n",
    "Note: Apply for 7 instead of 12"
   ]
  },
  {
   "cell_type": "markdown",
   "metadata": {},
   "source": [
    "<h2>Voronoi Diagrams</h2>"
   ]
  },
  {
   "cell_type": "code",
   "execution_count": 41,
   "metadata": {
    "collapsed": false
   },
   "outputs": [
    {
     "data": {
      "image/png": "[encoded data removed]",
      "text/plain": [
       "<matplotlib.figure.Figure at 0x2853d1e36d8>"
      ]
     },
     "metadata": {},
     "output_type": "display_data"
    }
   ],
   "source": [
    "from scipy.spatial import Voronoi, voronoi_plot_2d\n",
    "\n",
    "points = np.array([[0, 0], [0, 1], [0, 2], [1, 0], [1, 1], [1, 2],[2, 0], [2, 1], [2, 2]])\n",
    "\n",
    "vor = Voronoi(points)\n",
    "voronoi_plot_2d(vor)\n",
    "plt.show()"
   ]
  },
  {
   "cell_type": "markdown",
   "metadata": {},
   "source": [
    "<a https://upload.wikimedia.org/wikipedia/commons/0/0c/Fortunes-algorithm-slowed.gif>Fortune algorithm</a>"
   ]
  },
  {
   "cell_type": "markdown",
   "metadata": {
    "collapsed": true
   },
   "source": [
    "Assignment\n",
    "\n",
    "\n",
    "1. Implement an divide-and-coquer algorithm which run in time $O(n\\lg n)$\n"
   ]
  },
  {
   "cell_type": "markdown",
   "metadata": {},
   "source": [
    "###Coloring a Voronoi diagram"
   ]
  },
  {
   "cell_type": "code",
   "execution_count": 49,
   "metadata": {
    "collapsed": false
   },
   "outputs": [],
   "source": [
    "# algoritmo tomado de https://rosettacode.org/wiki/Voronoi_diagram#Python\n",
    "\n",
    "\n",
    "from PIL import Image\n",
    "import random\n",
    "import math\n",
    " \n",
    "def generate_voronoi_diagram(width, height, num_cells):\n",
    "\timage = Image.new(\"RGB\", (width, height))\n",
    "\tputpixel = image.putpixel\n",
    "\timgx, imgy = image.size\n",
    "\tnx = []\n",
    "\tny = []\n",
    "\tnr = []\n",
    "\tng = []\n",
    "\tnb = []\n",
    "\tfor i in range(num_cells):\n",
    "\t\tnx.append(random.randrange(imgx))\n",
    "\t\tny.append(random.randrange(imgy))\n",
    "\t\tnr.append(random.randrange(256))\n",
    "\t\tng.append(random.randrange(256))\n",
    "\t\tnb.append(random.randrange(256))\n",
    "\tfor y in range(imgy):\n",
    "\t\tfor x in range(imgx):\n",
    "\t\t\tdmin = math.hypot(imgx-1, imgy-1)\n",
    "\t\t\tj = -1\n",
    "\t\t\tfor i in range(num_cells):\n",
    "\t\t\t\td = math.hypot(nx[i]-x, ny[i]-y)\n",
    "\t\t\t\tif d < dmin:\n",
    "\t\t\t\t\tdmin = d\n",
    "\t\t\t\t\tj = i\n",
    "\t\t\tputpixel((x, y), (nr[j], ng[j], nb[j]))\n",
    "\timage.save(\"VoronoiDiagram.png\", \"PNG\")\n",
    "      \n",
    " \n"
   ]
  },
  {
   "cell_type": "code",
   "execution_count": 50,
   "metadata": {
    "collapsed": true
   },
   "outputs": [],
   "source": [
    "# crea una imagen en el directorio\n",
    "generate_voronoi_diagram(500, 500, 25)"
   ]
  },
  {
   "cell_type": "markdown",
   "metadata": {},
   "source": [
    "<h1>References</h1>\n",
    "\n",
    "https://www.cs.princeton.edu/~rs/AlgsDS07/16Geometric.pdf\n",
    "\n",
    "http://blancosilva.github.io/post/2014/10/28/Computational-Geometry-in-Python.html\n",
    "\n",
    "http://people.inf.elte.hu/fekete/algoritmusok_msc/terinfo_geom/konyvek/Computational%20Geometry%20-%20Algorithms%20and%20Applications,%203rd%20Ed.pdf"
   ]
  }
 ],
 "metadata": {
  "anaconda-cloud": {},
  "kernelspec": {
   "display_name": "Python [conda root]",
   "language": "python",
   "name": "conda-root-py"
  },
  "language_info": {
   "codemirror_mode": {
    "name": "ipython",
    "version": 3
   },
   "file_extension": ".py",
   "mimetype": "text/x-python",
   "name": "python",
   "nbconvert_exporter": "python",
   "pygments_lexer": "ipython3",
   "version": "3.5.2"
  }
 },
 "nbformat": 4,
 "nbformat_minor": 0
}
