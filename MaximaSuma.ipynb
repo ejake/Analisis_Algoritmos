{
 "cells": [
  {
   "cell_type": "markdown",
   "metadata": {},
   "source": [
    "<h1>Taller 3: subsecuencia de suma máxima</h1>"
   ]
  },
  {
   "cell_type": "code",
   "execution_count": 4,
   "metadata": {
    "collapsed": true
   },
   "outputs": [],
   "source": [
    "import math\n",
    "import numpy as np\n",
    "import pylab as pl\n",
    "%matplotlib inline"
   ]
  },
  {
   "cell_type": "markdown",
   "metadata": {},
   "source": [
    "<p><strong>Caso 1:</strong> algoritmo trivial para solucionar el problema en tiempo O(n^3)</p>"
   ]
  },
  {
   "cell_type": "code",
   "execution_count": 5,
   "metadata": {
    "collapsed": false
   },
   "outputs": [],
   "source": [
    "def Max_Subsecuencia(arreglo):\n",
    "    valorM=0; \n",
    "    valorSum=0;\n",
    "    contador=0;\n",
    "    valorAux=0;\n",
    "    j=1;\n",
    "    for i in  range(len(arreglo)):\n",
    "        contador=0;\n",
    "        \n",
    "        for j in range(i+1,len(arreglo)):\n",
    "            \n",
    "            if contador==0:\n",
    "                \n",
    "                valorSum=arreglo[i]+arreglo[j];\n",
    "                contador=contador+1;\n",
    "                if valorSum< arreglo[i] and arreglo[j]<arreglo[i]:\n",
    "                    valorAux=arreglo[i]\n",
    "                else:\n",
    "                    if valorSum<arreglo[j]and arreglo[i]<arreglo[j]:\n",
    "                        valorAux=arreglo[j]\n",
    "                if valorM<valorSum:\n",
    "                    valorM=valorSum\n",
    "                else:\n",
    "                    if valorM<valorAux:\n",
    "                        valorM=valorAux\n",
    "                        \n",
    "            else:\n",
    "                valorSum=valorSum+arreglo[j];\n",
    "\n",
    "                \n",
    "                if valorM<valorSum:\n",
    "                    valorM=valorSum\n",
    "                    \n",
    "    print (valorM);\n",
    "           "
   ]
  },
  {
   "cell_type": "code",
   "execution_count": 6,
   "metadata": {
    "collapsed": false
   },
   "outputs": [
    {
     "name": "stdout",
     "output_type": "stream",
     "text": [
      "20\n"
     ]
    }
   ],
   "source": [
    "a = np.array([-2, 11, -4, 13,-5,-2])\n",
    "Max_Subsecuencia(a);"
   ]
  },
  {
   "cell_type": "markdown",
   "metadata": {},
   "source": [
    "<p><strong>Caso 2:</strong> algoritmo dividir y conquistar para solucionar el problema en tiempo O(n\\log n)</p>"
   ]
  },
  {
   "cell_type": "code",
   "execution_count": 7,
   "metadata": {
    "collapsed": false
   },
   "outputs": [],
   "source": [
    "def Max_Subsecuencia_Div(arreglo):\n",
    "    maximo=0\n",
    "    if len(arreglo)>1:\n",
    "        medio = len(arreglo)//2\n",
    "        izquierda = arreglo[:medio]\n",
    "        derecha = arreglo[medio:]\n",
    "        \n",
    "        if(len(izquierda)==1 and len(derecha)==1):\n",
    "            suma=izquierda[0]+derecha[0]\n",
    "            maximo=suma\n",
    "            return maximo\n",
    "            \n",
    "        if(len(izquierda)==1 and len(derecha)!=1):\n",
    "            maximo=Max_Subsecuencia_Div(derecha)\n",
    "            suma=izquierda[0]+maximo\n",
    "            if(maximo>izquierda[0] and maximo>suma):\n",
    "                return maximo;\n",
    "            else:\n",
    "                if(suma>izquierda[0]):\n",
    "                    return suma\n",
    "                else:\n",
    "                    return izquierda[0]\n",
    "                \n",
    "        maximo=Max_Subsecuencia_Div(izquierda)\n",
    "        if(maximo>0):\n",
    "            maximo=maximo+Max_Subsecuencia_Div(derecha)\n",
    "        else:\n",
    "            maximo=Max_Subsecuencia_Div(derecha)\n",
    "        \n",
    "    if(maximo>0):\n",
    "        return maximo\n",
    "    else:\n",
    "        return 0"
   ]
  },
  {
   "cell_type": "code",
   "execution_count": 8,
   "metadata": {
    "collapsed": false
   },
   "outputs": [
    {
     "name": "stdout",
     "output_type": "stream",
     "text": [
      "20\n"
     ]
    }
   ],
   "source": [
    "a = np.array([-2, 11, -4, 13,-5,-2])\n",
    "\n",
    "print(Max_Subsecuencia_Div(a));"
   ]
  },
  {
   "cell_type": "markdown",
   "metadata": {},
   "source": [
    "<p><strong>Caso 3:</strong> algoritmo J.L. Bentley, 1989.</p>"
   ]
  },
  {
   "cell_type": "code",
   "execution_count": 9,
   "metadata": {
    "collapsed": false
   },
   "outputs": [],
   "source": [
    "def sumamax3(a,prim,ult):\n",
    "    mitad=(prim+ult)/2; \n",
    "    max_izq=0\n",
    "    max_der=0\n",
    "    suma=0\n",
    "    max_aux=0\n",
    "    if(prim>ult):\n",
    "\n",
    "        return 0;\n",
    "    if(prim==ult):\n",
    "        return(max(0,a[prim]));\n",
    "       \n",
    "    max_aux=max(sumamax3(a,prim,int(mitad)),sumamax3(a,int(mitad+1),ult));\n",
    "    max_izq=0\n",
    "    suma=0\n",
    "    for i in range(prim,int(mitad+1)):\n",
    "        suma=suma+a[i]\n",
    "        max_izq=max(max_izq,suma)\n",
    "    \n",
    "    max_der=0\n",
    "    suma=0\n",
    "    for i in range(int(mitad+1),ult):\n",
    "\n",
    "        suma=suma+a[i]\n",
    "        max_der=max(max_der,suma)\n",
    "    \n",
    "    return max(max_der+max_izq,max_aux)\n",
    "\n",
    "\n",
    "\n",
    "    "
   ]
  },
  {
   "cell_type": "code",
   "execution_count": 10,
   "metadata": {
    "collapsed": false
   },
   "outputs": [
    {
     "name": "stdout",
     "output_type": "stream",
     "text": [
      "20\n"
     ]
    }
   ],
   "source": [
    "a = np.array([-2, 11, -4, 13,-5,-2])\n",
    "print(sumamax3(a,1,5));\n"
   ]
  },
  {
   "cell_type": "markdown",
   "metadata": {},
   "source": [
    "<h1> Implementacion Parcial</h1>"
   ]
  },
  {
   "cell_type": "code",
   "execution_count": 14,
   "metadata": {
    "collapsed": false
   },
   "outputs": [],
   "source": [
    "def concatenacion(lista, contador,maximo):\n",
    "    listaMax=[]\n",
    "    #print maximo;\n",
    "    if(contador==0):\n",
    "        contador=contador+1\n",
    "        lista1=[]\n",
    "        tama=len(lista)-1\n",
    "        for i in range(tama):\n",
    "            a1=np.zeros(2);\n",
    "            a1=[lista[i],lista[i+1]]\n",
    "            m=lista[i]+lista[i+1]\n",
    "            listaMax.insert(i,m)\n",
    "            lista1.insert(i,a1)\n",
    "            max_aux=max(listaMax)\n",
    "        print \"sub arreglos: \",lista1 \n",
    "        print \"valor de sub arreglos: \",listaMax \n",
    "\n",
    "        if max_aux>maximo:\n",
    "            print \"valor maximo hasta el momento: \", max_aux;\n",
    "            concatenacion(lista1,contador,max_aux)\n",
    "        else:\n",
    "            print \"valor maximo hasta el momento: \", maximo;\n",
    "            concatenacion(lista1,contador,maximo)\n",
    "                \n",
    "    else:\n",
    "        lista2=[]\n",
    "        m=0\n",
    "        for i in range(len(lista)):\n",
    "            if((i+1)<len(lista)):\n",
    "                a=lista[i]+lista[i+1][contador:]\n",
    "                lista2.insert(i,a)\n",
    "        print \"sub arreglos: \",lista2\n",
    "        \n",
    "        for j in range(len(lista2)):\n",
    "            m=0\n",
    "            for k in range(len(lista2[0])):\n",
    "                m=m+lista2[j][k]\n",
    "            listaMax.insert(i,m)\n",
    "        print \"valor de sub arreglos: \",listaMax\n",
    "        contador=contador+1;\n",
    "        if(len(lista)>1):\n",
    "            max_aux=max(listaMax)\n",
    "            if max_aux>maximo:\n",
    "                print \"valor maximo hasta el momento: \", max_aux;\n",
    "                concatenacion(lista2,contador,max_aux)\n",
    "            else:\n",
    "                print \"valor maximo hasta el momento: \", maximo;\n",
    "                concatenacion(lista2,contador,maximo)\n",
    "\n",
    "    \n"
   ]
  },
  {
   "cell_type": "code",
   "execution_count": 18,
   "metadata": {
    "collapsed": false
   },
   "outputs": [
    {
     "name": "stdout",
     "output_type": "stream",
     "text": [
      "lista inicial:  [-2, 11, -4, 13, -5, -2]\n",
      "maximo inicial:  13\n",
      "sub arreglos:  [[-2, 11], [11, -4], [-4, 13], [13, -5], [-5, -2]]\n",
      "valor de sub arreglos:  [9, 7, 9, 8, -7]\n",
      "valor maximo hasta el momento:  13\n",
      "sub arreglos:  [[-2, 11, -4], [11, -4, 13], [-4, 13, -5], [13, -5, -2]]\n",
      "valor de sub arreglos:  [5, 20, 4, 6]\n",
      "valor maximo hasta el momento:  20\n",
      "sub arreglos:  [[-2, 11, -4, 13], [11, -4, 13, -5], [-4, 13, -5, -2]]\n",
      "valor de sub arreglos:  [18, 15, 2]\n",
      "valor maximo hasta el momento:  20\n",
      "sub arreglos:  [[-2, 11, -4, 13, -5], [11, -4, 13, -5, -2]]\n",
      "valor de sub arreglos:  [13, 13]\n",
      "valor maximo hasta el momento:  20\n",
      "sub arreglos:  [[-2, 11, -4, 13, -5, -2]]\n",
      "valor de sub arreglos:  [11]\n",
      "valor maximo hasta el momento:  20\n",
      "sub arreglos:  []\n",
      "valor de sub arreglos:  []\n"
     ]
    }
   ],
   "source": [
    "l=[-2, 11, -4, 13,-5,-2]\n",
    "maximo=max(l)\n",
    "print \"lista inicial: \", l\n",
    "print \"maximo inicial: \",maximo\n",
    "maximo=concatenacion(l,0,maximo)\n",
    "\n"
   ]
  },
  {
   "cell_type": "code",
   "execution_count": null,
   "metadata": {
    "collapsed": true
   },
   "outputs": [],
   "source": []
  }
 ],
 "metadata": {
  "anaconda-cloud": {},
  "kernelspec": {
   "display_name": "Python [conda root]",
   "language": "python",
   "name": "conda-root-py"
  },
  "language_info": {
   "codemirror_mode": {
    "name": "ipython",
    "version": 2
   },
   "file_extension": ".py",
   "mimetype": "text/x-python",
   "name": "python",
   "nbconvert_exporter": "python",
   "pygments_lexer": "ipython2",
   "version": "2.7.12"
  }
 },
 "nbformat": 4,
 "nbformat_minor": 1
}
