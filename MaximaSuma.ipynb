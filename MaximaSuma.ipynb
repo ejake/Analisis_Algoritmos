{
 "cells": [
  {
   "cell_type": "markdown",
   "metadata": {},
   "source": [
    "<h1>Taller 3: subsecuencia de suma máxima</h1>"
   ]
  },
  {
   "cell_type": "code",
   "execution_count": 2,
   "metadata": {
    "collapsed": true
   },
   "outputs": [],
   "source": [
    "import math\n",
    "import numpy as np\n",
    "import pylab as pl\n",
    "%matplotlib inline"
   ]
  },
  {
   "cell_type": "markdown",
   "metadata": {},
   "source": [
    "<p><strong>Caso 1:</strong> algoritmo trivial para solucionar el problema en tiempo O(n^3)</p>"
   ]
  },
  {
   "cell_type": "code",
   "execution_count": 3,
   "metadata": {
    "collapsed": false
   },
   "outputs": [],
   "source": [
    "def Max_Subsecuencia(arreglo):\n",
    "    valorM=0; \n",
    "    valorSum=0;\n",
    "    contador=0;\n",
    "    valorAux=0;\n",
    "    j=1;\n",
    "    for i in  range(len(arreglo)):\n",
    "        contador=0;\n",
    "        \n",
    "        for j in range(i+1,len(arreglo)):\n",
    "            \n",
    "            if contador==0:\n",
    "                \n",
    "                valorSum=arreglo[i]+arreglo[j];\n",
    "                contador=contador+1;\n",
    "                if valorSum< arreglo[i] and arreglo[j]<arreglo[i]:\n",
    "                    valorAux=arreglo[i]\n",
    "                else:\n",
    "                    if valorSum<arreglo[j]and arreglo[i]<arreglo[j]:\n",
    "                        valorAux=arreglo[j]\n",
    "                if valorM<valorSum:\n",
    "                    valorM=valorSum\n",
    "                else:\n",
    "                    if valorM<valorAux:\n",
    "                        valorM=valorAux\n",
    "                        \n",
    "            else:\n",
    "                valorSum=valorSum+arreglo[j];\n",
    "\n",
    "                \n",
    "                if valorM<valorSum:\n",
    "                    valorM=valorSum\n",
    "                    \n",
    "    print (valorM);\n",
    "           "
   ]
  },
  {
   "cell_type": "code",
   "execution_count": 4,
   "metadata": {
    "collapsed": false
   },
   "outputs": [
    {
     "name": "stdout",
     "output_type": "stream",
     "text": [
      "20\n"
     ]
    }
   ],
   "source": [
    "a = np.array([-2, 11, -4, 13,-5,-2])\n",
    "Max_Subsecuencia(a);"
   ]
  },
  {
   "cell_type": "markdown",
   "metadata": {},
   "source": [
    "<p><strong>Caso 2:</strong> algoritmo dividir y conquistar para solucionar el problema en tiempo O(n\\log n)</p>"
   ]
  },
  {
   "cell_type": "code",
   "execution_count": 5,
   "metadata": {
    "collapsed": false
   },
   "outputs": [],
   "source": [
    "def Max_Subsecuencia_Div(arreglo):\n",
    "    maximo=0\n",
    "    if len(arreglo)>1:\n",
    "        medio = len(arreglo)//2\n",
    "        izquierda = arreglo[:medio]\n",
    "        derecha = arreglo[medio:]\n",
    "        \n",
    "        if(len(izquierda)==1 and len(derecha)==1):\n",
    "            suma=izquierda[0]+derecha[0]\n",
    "            maximo=suma\n",
    "            return maximo\n",
    "            \n",
    "        if(len(izquierda)==1 and len(derecha)!=1):\n",
    "            maximo=Max_Subsecuencia_Div(derecha)\n",
    "            suma=izquierda[0]+maximo\n",
    "            if(maximo>izquierda[0] and maximo>suma):\n",
    "                return maximo;\n",
    "            else:\n",
    "                if(suma>izquierda[0]):\n",
    "                    return suma\n",
    "                else:\n",
    "                    return izquierda[0]\n",
    "                \n",
    "        maximo=Max_Subsecuencia_Div(izquierda)\n",
    "        if(maximo>0):\n",
    "            maximo=maximo+Max_Subsecuencia_Div(derecha)\n",
    "        else:\n",
    "            maximo=Max_Subsecuencia_Div(derecha)\n",
    "        \n",
    "    if(maximo>0):\n",
    "        return maximo\n",
    "    else:\n",
    "        return 0"
   ]
  },
  {
   "cell_type": "code",
   "execution_count": 6,
   "metadata": {
    "collapsed": false
   },
   "outputs": [
    {
     "name": "stdout",
     "output_type": "stream",
     "text": [
      "20\n"
     ]
    }
   ],
   "source": [
    "a = np.array([-2, 11, -4, 13,-5,-2])\n",
    "\n",
    "print(Max_Subsecuencia_Div(a));"
   ]
  },
  {
   "cell_type": "markdown",
   "metadata": {},
   "source": [
    "<p><strong>Caso 3:</strong> algoritmo J.L. Bentley, 1989.</p>"
   ]
  },
  {
   "cell_type": "code",
   "execution_count": 7,
   "metadata": {
    "collapsed": false
   },
   "outputs": [],
   "source": [
    "def sumamax3(a,prim,ult):\n",
    "    mitad=(prim+ult)/2; \n",
    "    max_izq=0\n",
    "    max_der=0\n",
    "    suma=0\n",
    "    max_aux=0\n",
    "    if(prim>ult):\n",
    "\n",
    "        return 0;\n",
    "    if(prim==ult):\n",
    "        return(max(0,a[prim]));\n",
    "       \n",
    "    max_aux=max(sumamax3(a,prim,int(mitad)),sumamax3(a,int(mitad+1),ult));\n",
    "    max_izq=0\n",
    "    suma=0\n",
    "    for i in range(prim,int(mitad+1)):\n",
    "        suma=suma+a[i]\n",
    "        max_izq=max(max_izq,suma)\n",
    "    \n",
    "    max_der=0\n",
    "    suma=0\n",
    "    for i in range(int(mitad+1),ult):\n",
    "\n",
    "        suma=suma+a[i]\n",
    "        max_der=max(max_der,suma)\n",
    "    \n",
    "    return max(max_der+max_izq,max_aux)\n",
    "\n",
    "\n",
    "\n",
    "    "
   ]
  },
  {
   "cell_type": "code",
   "execution_count": 8,
   "metadata": {
    "collapsed": false
   },
   "outputs": [
    {
     "name": "stdout",
     "output_type": "stream",
     "text": [
      "20\n"
     ]
    }
   ],
   "source": [
    "a = np.array([-2, 11, -4, 13,-5,-2])\n",
    "print(sumamax3(a,1,5));\n"
   ]
  },
  {
   "cell_type": "markdown",
   "metadata": {},
   "source": [
    "<h1> Implementacion Parcial</h1>"
   ]
  },
  {
   "cell_type": "code",
   "execution_count": 9,
   "metadata": {
    "collapsed": true
   },
   "outputs": [],
   "source": [
    "def concatenacion(lista, contador,maximo):\n",
    "    listaMax=[]\n",
    "    print(\"lista: \", lista);\n",
    "    print(\"valor maximo hasta el momento: \", maximo);\n",
    "    #print maximo;\n",
    "    if(contador==0):\n",
    "        contador=contador+1\n",
    "        lista1=[]\n",
    "        tama=len(lista)-1\n",
    "        for i in range(tama):\n",
    "            a1=np.zeros(2);\n",
    "            a1=[lista[i],lista[i+1]]\n",
    "            m=lista[i]+lista[i+1]\n",
    "            listaMax.insert(i,m)\n",
    "            lista1.insert(i,a1)\n",
    "        concatenacion(lista1,contador,max(listaMax))\n",
    "    else:\n",
    "        #print \"lista:\",lista;\n",
    "        lista2=[]\n",
    "        for i in range(len(lista)):\n",
    "            #print \"tama lista:\", len(lista);\n",
    "            if((i+1)<len(lista)):\n",
    "                a=lista[i]+lista[i+1][contador:]\n",
    "                #print len(lista[i])\n",
    "                for j in range(len(lista[i])-1):\n",
    "                    m=lista[i][j]+lista[i][j+1]+lista[i+1][j+1]\n",
    "                    listaMax.insert(i,m)\n",
    "                    #print \"maximo\" ,m, \"de\" ,lista[i][j],lista[i][j+1],lista[i+1][j+1]\n",
    "                lista2.insert(i,a)\n",
    "\n",
    "        contador=contador+1;\n",
    "        if(len(lista)>1):\n",
    "            concatenacion(lista2,contador,max(listaMax))\n",
    "\n",
    "    \n"
   ]
  },
  {
   "cell_type": "code",
   "execution_count": 13,
   "metadata": {
    "collapsed": false
   },
   "outputs": [
    {
     "name": "stdout",
     "output_type": "stream",
     "text": [
      "lista:  [-2, 11, -4, 13, -5, -2]\n",
      "valor maximo hasta el momento:  0\n",
      "lista:  [[-2, 11], [11, -4], [-4, 13], [13, -5], [-5, -2]]\n",
      "valor maximo hasta el momento:  9\n",
      "lista:  [[-2, 11, -4], [11, -4, 13], [-4, 13, -5], [13, -5, -2]]\n",
      "valor maximo hasta el momento:  20\n",
      "lista:  [[-2, 11, -4, 13], [11, -4, 13, -5], [-4, 13, -5, -2]]\n",
      "valor maximo hasta el momento:  20\n",
      "lista:  [[-2, 11, -4, 13, -5], [11, -4, 13, -5, -2]]\n",
      "valor maximo hasta el momento:  20\n",
      "lista:  [[-2, 11, -4, 13, -5, -2]]\n",
      "valor maximo hasta el momento:  20\n"
     ]
    }
   ],
   "source": [
    "l=[-2, 11, -4, 13,-5,-2]\n",
    "n=[]\n",
    "concatenacion(l,0,0)"
   ]
  },
  {
   "cell_type": "code",
   "execution_count": null,
   "metadata": {
    "collapsed": true
   },
   "outputs": [],
   "source": []
  }
 ],
 "metadata": {
  "anaconda-cloud": {},
  "kernelspec": {
   "display_name": "Python [conda root]",
   "language": "python",
   "name": "conda-root-py"
  },
  "language_info": {
   "codemirror_mode": {
    "name": "ipython",
    "version": 3
   },
   "file_extension": ".py",
   "mimetype": "text/x-python",
   "name": "python",
   "nbconvert_exporter": "python",
   "pygments_lexer": "ipython3",
   "version": "3.5.2"
  }
 },
 "nbformat": 4,
 "nbformat_minor": 1
}
