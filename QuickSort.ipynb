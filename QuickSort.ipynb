{
 "cells": [
  {
   "cell_type": "markdown",
   "metadata": {},
   "source": [
    "<h1>Quick Sort</h1>"
   ]
  },
  {
   "cell_type": "code",
   "execution_count": 1,
   "metadata": {
    "collapsed": false
   },
   "outputs": [],
   "source": [
    "import math\n",
    "import numpy as np\n",
    "import pylab as pl\n",
    "%matplotlib inline"
   ]
  },
  {
   "cell_type": "code",
   "execution_count": 98,
   "metadata": {
    "collapsed": false
   },
   "outputs": [],
   "source": [
    "def partition(myList, start, end):\n",
    "    pivot = myList[start]\n",
    "    left = start+1\n",
    "    right = end\n",
    "    done = False\n",
    "    while not done:\n",
    "        while left <= right and myList[left] <= pivot:\n",
    "            left = left + 1\n",
    "        while myList[right] >= pivot and right >=left:\n",
    "            right = right -1\n",
    "        if right < left:\n",
    "            done= True\n",
    "        else:\n",
    "            temp=myList[left]\n",
    "            myList[left]=myList[right]\n",
    "            myList[right]=temp\n",
    "    temp=myList[start]\n",
    "    myList[start]=myList[right]\n",
    "    myList[right]=temp\n",
    "    return right\n",
    "\n",
    "\n",
    "def quicksort(myList, start, end):\n",
    "    if start < end:\n",
    "        split = partition(myList, start, end)\n",
    "        quicksort(myList, start, split-1)\n",
    "        quicksort(myList, split+1, end)\n",
    "    return myList\n"
   ]
  },
  {
   "cell_type": "code",
   "execution_count": 99,
   "metadata": {
    "collapsed": false
   },
   "outputs": [
    {
     "name": "stdout",
     "output_type": "stream",
     "text": [
      "[7, 2, 5, 1, 29, 6, 4, 19, 11]\n",
      "[1, 2, 4, 5, 6, 7, 11, 19, 29]\n"
     ]
    }
   ],
   "source": [
    "B = [7,2,5,1,29,6,4,19,11]\n",
    "print B\n",
    "quicksort(B,0,len(B)-1)\n",
    "print B\n"
   ]
  },
  {
   "cell_type": "markdown",
   "metadata": {},
   "source": [
    "<h2>Correctitud</h2>"
   ]
  },
  {
   "cell_type": "markdown",
   "metadata": {},
   "source": [
    "Invariante: Luego de cada iteracion podemos decir que el pivote esta ubicado en una posicion donde los numeros a su derecha son mayores y los de la izquierda menores\n"
   ]
  },
  {
   "cell_type": "code",
   "execution_count": 95,
   "metadata": {
    "collapsed": false
   },
   "outputs": [],
   "source": [
    "def invariant(myList, posPivo):\n",
    "    pivot = myList[posPivo]\n",
    "    print \"Lista de elementos luego de iteracion:\", myList\n",
    "    print \"Pivote:\", pivot\n",
    "    print \"Posicion del pivote:\", posPivo\n",
    "    i=0\n",
    "    while myList[i]<pivot and i<posPivo:\n",
    "        i=i+1\n",
    "    i=i+1    \n",
    "    while i<len(myList) and myList[i]>pivot:\n",
    "        i=i+1\n",
    "    \n",
    "    if i==len(myList):\n",
    "        print \"Elementos de la derecha mayores y de la izquierda menores\"\n",
    "    return i==len(myList)"
   ]
  },
  {
   "cell_type": "markdown",
   "metadata": {},
   "source": [
    "Algoritmo de quickSort incluyendo evaluación de la invariante (inicialización, mantenimiento, terminación)"
   ]
  },
  {
   "cell_type": "code",
   "execution_count": 96,
   "metadata": {
    "collapsed": true
   },
   "outputs": [],
   "source": [
    "def partition_invariant(myList, start, end):\n",
    "    print \"Lista de elementos sin iteracion:\", myList\n",
    "    pivot = myList[start]\n",
    "    left = start+1\n",
    "    right = end\n",
    "    done = False\n",
    "    while not done:\n",
    "        while left <= right and myList[left] <= pivot:\n",
    "            left = left + 1\n",
    "        while myList[right] >= pivot and right >=left:\n",
    "            right = right -1\n",
    "        if right < left:\n",
    "            done= True\n",
    "        else:\n",
    "            temp=myList[left]\n",
    "            myList[left]=myList[right]\n",
    "            myList[right]=temp\n",
    "    temp=myList[start]\n",
    "    myList[start]=myList[right]\n",
    "    myList[right]=temp\n",
    "    print invariant(myList,right)\n",
    "    return right\n",
    "\n",
    "\n",
    "def quicksort_invariant(myList, start, end):\n",
    "    if start < end:\n",
    "        split = partition_invariant(myList, start, end)\n",
    "        quicksort_invariant(myList, start, split-1)\n",
    "        quicksort_invariant(myList, split+1, end)\n",
    "    return myList"
   ]
  },
  {
   "cell_type": "code",
   "execution_count": 97,
   "metadata": {
    "collapsed": false
   },
   "outputs": [
    {
     "name": "stdout",
     "output_type": "stream",
     "text": [
      "[7, 2, 5, 1, 29, 6, 4, 19, 11]\n",
      "Lista de elementos sin iteracion: [7, 2, 5, 1, 29, 6, 4, 19, 11]\n",
      "Lista de elementos luego de iteracion: [6, 2, 5, 1, 4, 7, 29, 19, 11]\n",
      "Pivote: 7\n",
      "Posicion del pivote: 5\n",
      "Elementos de la derecha mayores y de la izquierda menores\n",
      "True\n",
      "Lista de elementos sin iteracion: [6, 2, 5, 1, 4, 7, 29, 19, 11]\n",
      "Lista de elementos luego de iteracion: [4, 2, 5, 1, 6, 7, 29, 19, 11]\n",
      "Pivote: 6\n",
      "Posicion del pivote: 4\n",
      "Elementos de la derecha mayores y de la izquierda menores\n",
      "True\n",
      "Lista de elementos sin iteracion: [4, 2, 5, 1, 6, 7, 29, 19, 11]\n",
      "Lista de elementos luego de iteracion: [1, 2, 4, 5, 6, 7, 29, 19, 11]\n",
      "Pivote: 4\n",
      "Posicion del pivote: 2\n",
      "Elementos de la derecha mayores y de la izquierda menores\n",
      "True\n",
      "Lista de elementos sin iteracion: [1, 2, 4, 5, 6, 7, 29, 19, 11]\n",
      "Lista de elementos luego de iteracion: [1, 2, 4, 5, 6, 7, 29, 19, 11]\n",
      "Pivote: 1\n",
      "Posicion del pivote: 0\n",
      "Elementos de la derecha mayores y de la izquierda menores\n",
      "True\n",
      "Lista de elementos sin iteracion: [1, 2, 4, 5, 6, 7, 29, 19, 11]\n",
      "Lista de elementos luego de iteracion: [1, 2, 4, 5, 6, 7, 11, 19, 29]\n",
      "Pivote: 29\n",
      "Posicion del pivote: 8\n",
      "Elementos de la derecha mayores y de la izquierda menores\n",
      "True\n",
      "Lista de elementos sin iteracion: [1, 2, 4, 5, 6, 7, 11, 19, 29]\n",
      "Lista de elementos luego de iteracion: [1, 2, 4, 5, 6, 7, 11, 19, 29]\n",
      "Pivote: 11\n",
      "Posicion del pivote: 6\n",
      "Elementos de la derecha mayores y de la izquierda menores\n",
      "True\n",
      "[1, 2, 4, 5, 6, 7, 11, 19, 29]\n"
     ]
    }
   ],
   "source": [
    "B = [7,2,5,1,29,6,4,19,11]\n",
    "print B\n",
    "quicksort_invariant(B,0,len(B)-1)\n",
    "print B"
   ]
  },
  {
   "cell_type": "markdown",
   "metadata": {},
   "source": [
    "<h2>Análisis del tiempo de ejecución</h2>"
   ]
  },
  {
   "cell_type": "code",
   "execution_count": 4,
   "metadata": {
    "collapsed": true
   },
   "outputs": [],
   "source": [
    "class Counter:\n",
    "    \n",
    "    def __init__(self):\n",
    "        self.steps = 0\n",
    "\n",
    "    def reset(self):\n",
    "        self.steps = 0\n",
    "\n",
    "    def count(self):\n",
    "        self.steps += 1\n",
    "\n",
    "    def print_steps(self):\n",
    "        print \"Number of steps =\", self.steps\n",
    "        \n",
    "def partition_cont(myList, start, end,cont):\n",
    "    cont.count()\n",
    "    pivot = myList[start]\n",
    "    cont.count()\n",
    "    left = start+1\n",
    "    cont.count()\n",
    "    right = end\n",
    "    cont.count()\n",
    "    done = False\n",
    "    cont.count()\n",
    "    while not done:\n",
    "        cont.count()\n",
    "        while left <= right and myList[left] <= pivot:\n",
    "            cont.count()\n",
    "            left = left + 1\n",
    "            cont.count()\n",
    "        while myList[right] >= pivot and right >=left:\n",
    "            cont.count()\n",
    "            right = right -1\n",
    "            cont.count()\n",
    "        if right < left:\n",
    "            cont.count()\n",
    "            done= True\n",
    "            cont.count()\n",
    "        else:\n",
    "            cont.count()\n",
    "            temp=myList[left]\n",
    "            cont.count()\n",
    "            myList[left]=myList[right]\n",
    "            cont.count()\n",
    "            myList[right]=temp\n",
    "            cont.count()\n",
    "    temp=myList[start]\n",
    "    cont.count()\n",
    "    myList[start]=myList[right]\n",
    "    cont.count()\n",
    "    myList[right]=temp\n",
    "    cont.count()\n",
    "    return right\n",
    "\n",
    "\n",
    "def quicksort_cont(myList, start, end,cont):\n",
    "    cont.count()\n",
    "    if start < end:\n",
    "        cont.count()\n",
    "        split = partition_cont(myList, start, end,cont)\n",
    "        cont.count()\n",
    "        quicksort_cont(myList, start, split-1,cont)\n",
    "        cont.count()\n",
    "        quicksort_cont(myList, split+1, end,cont)\n",
    "        cont.count()\n",
    "    return myList"
   ]
  },
  {
   "cell_type": "code",
   "execution_count": 100,
   "metadata": {
    "collapsed": false
   },
   "outputs": [
    {
     "name": "stdout",
     "output_type": "stream",
     "text": [
      "Number of steps = 146\n"
     ]
    }
   ],
   "source": [
    "B = np.random.permutation(range(0,10))\n",
    "acct = Counter()\n",
    "quicksort_cont(B,0,len(B)-1, acct)\n",
    "acct.print_steps()"
   ]
  },
  {
   "cell_type": "markdown",
   "metadata": {},
   "source": [
    "<h2>Análisis experimental</h2>\n",
    "Ahora vamos a analizar el comportamiento del algoritmo cuando el tamaño de la entrada varía. La siguiente función genera arreglos al azar de tamaño 1 a n, llama la función acct_insertion_sort(l, acct) y contabiliza el número de pasos."
   ]
  },
  {
   "cell_type": "code",
   "execution_count": 101,
   "metadata": {
    "collapsed": true
   },
   "outputs": [],
   "source": [
    "import random as rnd\n",
    "\n",
    "def exper_analysis(n):\n",
    "    results = []\n",
    "    acct = Counter()\n",
    "    for i in range(n):\n",
    "        l = range(i)\n",
    "        rnd.shuffle(l)\n",
    "        acct.reset()\n",
    "        quicksort_cont(l,0,len(l)-1, acct)\n",
    "        results.append(acct.steps)\n",
    "    return results"
   ]
  },
  {
   "cell_type": "code",
   "execution_count": 102,
   "metadata": {
    "collapsed": false
   },
   "outputs": [
    {
     "name": "stdout",
     "output_type": "stream",
     "text": [
      "[1, 1, 20, 22, 64, 71, 80, 106, 114, 145]\n"
     ]
    }
   ],
   "source": [
    "print exper_analysis(10)"
   ]
  },
  {
   "cell_type": "code",
   "execution_count": 103,
   "metadata": {
    "collapsed": false
   },
   "outputs": [
    {
     "data": {
      "text/plain": [
       "[<matplotlib.lines.Line2D at 0x9e52b00>]"
      ]
     },
     "execution_count": 103,
     "metadata": {},
     "output_type": "execute_result"
    },
    {
     "data": {
      "image/png": "[encoded data removed]",
      "text/plain": [
       "<matplotlib.figure.Figure at 0x97ea4a8>"
      ]
     },
     "metadata": {},
     "output_type": "display_data"
    }
   ],
   "source": [
    "pl.clf()\n",
    "x = np.arange(100)\n",
    "y = np.array(exper_analysis(100))\n",
    "pl.plot(x, y, 'k.')"
   ]
  },
  {
   "cell_type": "markdown",
   "metadata": {},
   "source": [
    "<h2>Tiempo de Ejecucion</h2>"
   ]
  },
  {
   "cell_type": "code",
   "execution_count": 104,
   "metadata": {
    "collapsed": true
   },
   "outputs": [],
   "source": [
    "import time\n",
    "import random as rnd\n",
    "def time_analysis(n):\n",
    "    results = []\n",
    "    for i in range(n):\n",
    "        l = range(i)\n",
    "        rnd.shuffle(l)\n",
    "        t_inicial=time.clock()\n",
    "        quicksort(l,0,len(l)-1)\n",
    "        t_final= time.clock()\n",
    "        t_total=t_final-t_inicial\n",
    "        results.append(t_total*10000000)\n",
    "    return results"
   ]
  },
  {
   "cell_type": "code",
   "execution_count": 105,
   "metadata": {
    "collapsed": false
   },
   "outputs": [
    {
     "name": "stdout",
     "output_type": "stream",
     "text": [
      "[19.864351088472176, 3.310724423499778, 36.417982300918084, 39.72870217694435, 49.660884542390704, 39.72870672441786, 102.63248896080768, 89.38959126680857, 92.70031569030834, 82.7681378723355]\n"
     ]
    }
   ],
   "source": [
    "print time_analysis(10)"
   ]
  },
  {
   "cell_type": "code",
   "execution_count": 106,
   "metadata": {
    "collapsed": false
   },
   "outputs": [
    {
     "data": {
      "text/plain": [
       "[<matplotlib.lines.Line2D at 0xa087668>]"
      ]
     },
     "execution_count": 106,
     "metadata": {},
     "output_type": "execute_result"
    },
    {
     "data": {
      "image/png": "[encoded data removed]",
      "text/plain": [
       "<matplotlib.figure.Figure at 0xa0f8400>"
      ]
     },
     "metadata": {},
     "output_type": "display_data"
    }
   ],
   "source": [
    "pl.clf()\n",
    "x = np.arange(100)\n",
    "y = np.array(time_analysis(100))\n",
    "pl.plot(x, y, 'k.',color='orange')"
   ]
  },
  {
   "cell_type": "markdown",
   "metadata": {},
   "source": [
    "<h2>Analisis Teorico</h2>"
   ]
  },
  {
   "cell_type": "code",
   "execution_count": 107,
   "metadata": {
    "collapsed": true
   },
   "outputs": [],
   "source": [
    "from math import log\n",
    "def teoric_analysis(n):\n",
    "    results = []\n",
    "    for i in range(n):\n",
    "        l = range(i)\n",
    "        rnd.shuffle(l)\n",
    "        i=i*i\n",
    "        results.append(i)\n",
    "    return results"
   ]
  },
  {
   "cell_type": "code",
   "execution_count": 108,
   "metadata": {
    "collapsed": false
   },
   "outputs": [
    {
     "data": {
      "text/plain": [
       "[<matplotlib.lines.Line2D at 0xa293400>]"
      ]
     },
     "execution_count": 108,
     "metadata": {},
     "output_type": "execute_result"
    },
    {
     "data": {
      "image/png": "[encoded data removed]",
      "text/plain": [
       "<matplotlib.figure.Figure at 0xa126550>"
      ]
     },
     "metadata": {},
     "output_type": "display_data"
    }
   ],
   "source": [
    "pl.clf()\n",
    "x = np.arange(100)\n",
    "y = np.array(teoric_analysis(100))\n",
    "pl.plot(x, y, 'k.',color='blue')"
   ]
  },
  {
   "cell_type": "markdown",
   "metadata": {},
   "source": [
    "<h1>Gráficas juntas</h1>"
   ]
  },
  {
   "cell_type": "code",
   "execution_count": 109,
   "metadata": {
    "collapsed": false
   },
   "outputs": [
    {
     "data": {
      "text/plain": [
       "[<matplotlib.lines.Line2D at 0xa69a898>]"
      ]
     },
     "execution_count": 109,
     "metadata": {},
     "output_type": "execute_result"
    },
    {
     "data": {
      "image/png": "[encoded data removed]",
      "text/plain": [
       "<matplotlib.figure.Figure at 0xa11c2e8>"
      ]
     },
     "metadata": {},
     "output_type": "display_data"
    }
   ],
   "source": [
    "pl.clf()\n",
    "x = np.arange(100)\n",
    "y = np.array(teoric_analysis(100))\n",
    "pl.plot(x, y, 'k.',color='blue')\n",
    "x = np.arange(100)\n",
    "y = np.array(time_analysis(100))\n",
    "pl.plot(x, y, 'k.',color='orange') #Variable multiplicada por una constante muy grande\n",
    "x = np.arange(100)\n",
    "y = np.array(exper_analysis(100))   \n",
    "pl.plot(x, y, 'k.')"
   ]
  },
  {
   "cell_type": "code",
   "execution_count": null,
   "metadata": {
    "collapsed": true
   },
   "outputs": [],
   "source": []
  }
 ],
 "metadata": {
  "anaconda-cloud": {},
  "kernelspec": {
   "display_name": "Python [default]",
   "language": "python",
   "name": "python2"
  },
  "language_info": {
   "codemirror_mode": {
    "name": "ipython",
    "version": 2
   },
   "file_extension": ".py",
   "mimetype": "text/x-python",
   "name": "python",
   "nbconvert_exporter": "python",
   "pygments_lexer": "ipython2",
   "version": "2.7.12"
  }
 },
 "nbformat": 4,
 "nbformat_minor": 1
}
